{
 "cells": [
  {
   "cell_type": "code",
   "execution_count": 7,
   "metadata": {
    "scrolled": false
   },
   "outputs": [
    {
     "name": "stdout",
     "output_type": "stream",
     "text": [
      "2\n",
      "1\n",
      "12 2\n",
      "14\n",
      "2\n",
      "23\n",
      "23\n"
     ]
    }
   ],
   "source": [
    "#https://www.hackerrank.com/contests/smart-interviews/challenges/si-sum-of-array-elements\n",
    "for i in range(0,int(input())):\n",
    "    n=int(input())\n",
    "    sum=0\n",
    "    for i in (map(int,input().split())):\n",
    "        sum+=i\n",
    "    print(sum)\n",
    "        "
   ]
  },
  {
   "cell_type": "code",
   "execution_count": 38,
   "metadata": {
    "scrolled": false
   },
   "outputs": [
    {
     "name": "stdout",
     "output_type": "stream",
     "text": [
      "3\n",
      "3\n",
      "Case #1:\n",
      " * \n",
      "* *\n",
      " * \n",
      "5\n",
      "Case #2:\n",
      "  *  \n",
      " * * \n",
      "*   *\n",
      " * * \n",
      "  *  \n",
      "9\n",
      "Case #3:\n",
      "    *    \n",
      "   * *   \n",
      "  *   *  \n",
      " *     * \n",
      "*       *\n",
      " *     * \n",
      "  *   *  \n",
      "   * *   \n",
      "    *    \n"
     ]
    }
   ],
   "source": [
    "#https://www.hackerrank.com/contests/smart-interviews/challenges/si-print-hollow-diamond-pattern\n",
    "t=int(input())\n",
    "for p in range(1,t+1):\n",
    "    n=int(input())\n",
    "    print(\"Case #\",end='')\n",
    "    print(p,end='')\n",
    "    print(\":\")\n",
    "    \n",
    "    for i in range(1,n+1):\n",
    "        if i<=(n+1)/2:\n",
    "            for j in range(1,n+1):\n",
    "                pos1=((n+1)/2)-(i-1)\n",
    "                pos2=((n+1)/2)+(i-1)\n",
    "                if j == pos1 or j == pos2:\n",
    "                    print('*',end='')\n",
    "                else:\n",
    "                    print(' ',end='')\n",
    "            print()\n",
    "    for i in range(n-1,1,-1):\n",
    "        if i>=(n+1)/2:\n",
    "            for j in range(1,n+1):\n",
    "                pos1=(i)\n",
    "                pos2=(n+1-i)\n",
    "                if j == pos1 or j == pos2:\n",
    "                    print('*',end='')\n",
    "                else:\n",
    "                    print(' ',end='')\n",
    "            print()\n",
    "    \n",
    "    \n",
    "            "
   ]
  },
  {
   "cell_type": "code",
   "execution_count": 7,
   "metadata": {},
   "outputs": [
    {
     "name": "stdout",
     "output_type": "stream",
     "text": [
      "22 23 1 -24\n"
     ]
    }
   ],
   "source": [
    "a=23\n",
    "b=1\n",
    "print(a^b,a|b,a&b,~a)\n"
   ]
  },
  {
   "cell_type": "code",
   "execution_count": 26,
   "metadata": {},
   "outputs": [
    {
     "name": "stdout",
     "output_type": "stream",
     "text": [
      "0"
     ]
    }
   ],
   "source": [
    "# Function to convert decimal number \n",
    "# to binary using recursion \n",
    "def DecimalToBinary(num): \n",
    "\t\n",
    "\tif num > 1: \n",
    "\t\tDecimalToBinary(num // 2) \n",
    "\tprint(num % 2, end = '') \n",
    "\n",
    "# Driver Code \n",
    "if __name__ == '__main__': \n",
    "\t\n",
    "\t# decimal value \n",
    "\tdec_val = 43\n",
    "\t\n",
    "\t# Calling function \n",
    "\tDecimalToBinary(0) \n"
   ]
  },
  {
   "cell_type": "code",
   "execution_count": 19,
   "metadata": {},
   "outputs": [
    {
     "name": "stdout",
     "output_type": "stream",
     "text": [
      "112\n"
     ]
    }
   ],
   "source": [
    "# Function calculates the decimal equivalent \n",
    "# to given binary number \n",
    "\n",
    "def binaryToDecimal(binary): \n",
    "    \n",
    "    binary1 = binary \n",
    "    decimal, i, n = 0, 0, 0\n",
    "    while(binary != 0): \n",
    "        dec = binary % 10\n",
    "        decimal = decimal + dec * pow(2, i) \n",
    "        binary = binary//10\n",
    "        i += 1\n",
    "    print(decimal)\n",
    "    \n",
    "\n"
   ]
  },
  {
   "cell_type": "code",
   "execution_count": 25,
   "metadata": {},
   "outputs": [
    {
     "name": "stdout",
     "output_type": "stream",
     "text": [
      "0\n"
     ]
    }
   ],
   "source": [
    "x=1\n",
    "y=2\n",
    "num=int(str(1)*x+str(0)*y)\n",
    "num\n",
    "binaryToDecimal(0)"
   ]
  }
 ],
 "metadata": {
  "kernelspec": {
   "display_name": "Python 3",
   "language": "python",
   "name": "python3"
  },
  "language_info": {
   "codemirror_mode": {
    "name": "ipython",
    "version": 3
   },
   "file_extension": ".py",
   "mimetype": "text/x-python",
   "name": "python",
   "nbconvert_exporter": "python",
   "pygments_lexer": "ipython3",
   "version": "3.7.6"
  }
 },
 "nbformat": 4,
 "nbformat_minor": 4
}
