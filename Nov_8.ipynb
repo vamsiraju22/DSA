{
 "cells": [
  {
   "cell_type": "code",
   "execution_count": null,
   "metadata": {},
   "outputs": [],
   "source": [
    "#https://www.hackerrank.com/challenges/grading/problem\n",
    "\n",
    "grades=[13,45,67,43]\n",
    "new_grade=[]\n",
    "for ind,grade in enumerate(grades):    \n",
    "    if grade >= 38:\n",
    "        if (5-(grade%5))<3:\n",
    "            #new_grade[ind]=grade+(5-grade%5)\n",
    "            #print(new_grade)\n",
    "            new_grade.append(grade+(5-grade%5))\n",
    "        else:\n",
    "            new_grade.append(grade)\n",
    "    else:\n",
    "        new_grade.append(grade)\n",
    "return(new_grade)"
   ]
  },
  {
   "cell_type": "code",
   "execution_count": null,
   "metadata": {},
   "outputs": [],
   "source": [
    "#https://www.hackerrank.com/challenges/diagonal-difference/problem\n",
    "\n",
    "arr= [[11,2,4],[4,5,6],[10,8,-12]]\n",
    "sum1=0\n",
    "sum2=0\n",
    "for ind,i in enumerate(arr):\n",
    "    for j_ind,j in enumerate(i):\n",
    "        if j_ind==ind:\n",
    "            sum1+=j\n",
    "    for j_ind,j in enumerate(i[::-1]):\n",
    "        if j_ind==ind:\n",
    "            sum2+=j   \n",
    "if sum1>sum2:\n",
    "    return(sum1-sum2)\n",
    "else:\n",
    "    return(sum2-sum1)"
   ]
  },
  {
   "cell_type": "code",
   "execution_count": null,
   "metadata": {},
   "outputs": [],
   "source": [
    "#https://www.hackerrank.com/contests/smart-interviews/challenges/si-print-right-angled-triangle-pattern/problem\n",
    "\n",
    "t=int(input())\n",
    "for p in range(1,t+1):\n",
    "    n=int(input())\n",
    "    print(\"Case #\",end='')\n",
    "    print(p,end='')\n",
    "    print(\":\")\n",
    "    \n",
    "    for i in range(1,n+1):\n",
    "        for j in range(n,0,-1):\n",
    "            if j>i:\n",
    "                print(\" \",end='')\n",
    "            else:\n",
    "                print('*',end='')\n",
    "        print()"
   ]
  },
  {
   "cell_type": "code",
   "execution_count": null,
   "metadata": {},
   "outputs": [],
   "source": [
    "#https://www.codechef.com/problems/FLOW006\n",
    "\n",
    "t=int(input())\n",
    "for p in range(1,t+1):\n",
    "    n=int(input())\n",
    "    \n",
    "    l=(\".\".join(str(n))).split('.')\n",
    "    sum=0\n",
    "    for i in l:\n",
    "        sum+=int(i)\n",
    "    print(sum)\n",
    "    "
   ]
  },
  {
   "cell_type": "code",
   "execution_count": null,
   "metadata": {},
   "outputs": [],
   "source": [
    "#http://codeforces.com/problemset/problem/71/A\n",
    "\n",
    "t=int(input())\n",
    "for p in range(1,t+1):\n",
    "    s=str(input())\n",
    "    \n",
    "    if len(s)>10:\n",
    "        new_s=\"\"\n",
    "        new_s+=str(s[0])\n",
    "        new_s+=str(len(s)-2)\n",
    "        new_s+=str(s[len(s)-1])\n",
    "        print(new_s)\n",
    "    else:\n",
    "        print(s)"
   ]
  },
  {
   "cell_type": "code",
   "execution_count": null,
   "metadata": {},
   "outputs": [],
   "source": [
    "#C++\n",
    "#https://www.interviewbit.com/problems/number-of-1-bits/\n",
    "\n",
    "int Solution::numSetBits(unsigned int A) {\n",
    "    int c=0;\n",
    "    while(A>0){\n",
    "        if (A&1==1){\n",
    "            c++;\n",
    "        }\n",
    "        A=A>>1;\n",
    "    }\n",
    "    return(c);\n",
    "}\n"
   ]
  },
  {
   "cell_type": "code",
   "execution_count": null,
   "metadata": {},
   "outputs": [],
   "source": [
    "#https://www.spoj.com/problems/ADDREV/\n",
    "\n",
    "def rev(n1):\n",
    "    l=(\".\".join(str(n1))).split('.')\n",
    "    l=l[::-1]\n",
    "    rev_n=\"\"\n",
    "    for i in l:\n",
    "        rev_n+=(i)\n",
    "    return(int(rev_n))\n",
    "t=int(input())\n",
    "for p in range(1,t+1):\n",
    "    n=input()\n",
    "    n1,n2=n.split()\n",
    "\n",
    "    sum=rev(n1)+rev(n2)\n",
    "    print(rev(sum))\n",
    "    "
   ]
  },
  {
   "cell_type": "code",
   "execution_count": null,
   "metadata": {},
   "outputs": [],
   "source": [
    "#https://www.hackerrank.com/contests/smart-interviews-basic/challenges/si-basic-sum-of-two-matrices/submissions/code/1328018402\n",
    "\n",
    "n,m=input().split()\n",
    "n=int(n)\n",
    "m=int(m)\n",
    "arr1=[input().split() for i in range(n)]\n",
    "arr2=[input().split() for i in range(n)]\n",
    "sum_arr=[]\n",
    "for i in range(n):\n",
    "    chota_sum=[]\n",
    "    for j in range(m):\n",
    "        chota_sum.append(0)\n",
    "    sum_arr.append(chota_sum)\n",
    "    del (chota_sum)\n",
    "\n",
    "for ind,i in enumerate(arr1):\n",
    "    for j_ind,j in enumerate(arr2):\n",
    "        if ind==j_ind:\n",
    "            for element_ind,element in enumerate(i):\n",
    "                sum_arr[ind][element_ind]=int(element)+int(j[element_ind])\n",
    "\n",
    "for i in sum_arr:\n",
    "    for j in i:\n",
    "        print(j,end=' ')\n",
    "    print()"
   ]
  },
  {
   "cell_type": "code",
   "execution_count": null,
   "metadata": {},
   "outputs": [],
   "source": [
    "# https://www.hackerrank.com/contests/smart-interviews-basic/challenges/si-basic-matrix-row-sum\n",
    "\n",
    "n,m=input().split()\n",
    "n=int(n)\n",
    "m=int(m)\n",
    "arr1=[input().split() for i in range(n)]\n",
    "sum_arr=[0]*n\n",
    "num_rows=len(arr1)\n",
    "num_cols=len(arr1[0])\n",
    "\n",
    "\n",
    "for i in range(0,num_rows):\n",
    "    for j in range(0,num_cols):\n",
    "        sum_arr[i]+=int(arr1[i][j])\n",
    "for i in sum_arr:\n",
    "    print(i)\n",
    "\n",
    "# https://www.hackerrank.com/contests/smart-interviews-basic/challenges/si-basic-transpose-matrix\n",
    "\n",
    "n,m=input().split()\n",
    "n=int(n)\n",
    "m=int(m)\n",
    "arr1=[input().split() for i in range(n)]\n",
    "new_arr=[]\n",
    "\n",
    "num_rows=len(arr1)\n",
    "num_cols=len(arr1[0])\n",
    "for i in range(0,num_cols):\n",
    "    new_small_arr=[]\n",
    "    for j in range(0,num_rows):\n",
    "        new_small_arr.append(arr1[j][i])\n",
    "    new_arr.append(new_small_arr)\n",
    "    del new_small_arr\n",
    "\n",
    "for  i in new_arr:\n",
    "    for j in i:\n",
    "        print(j,end=' ')\n",
    "    print()\n",
    "\n",
    "\n",
    "\n",
    "# https://www.hackerrank.com/contests/smart-interviews-basic/challenges/si-basic-matrix-column-sum\n",
    "\n",
    "n,m=input().split()\n",
    "n=int(n)\n",
    "m=int(m)\n",
    "arr1=[input().split() for i in range(n)]\n",
    "sum_arr=[0]*m\n",
    "num_rows=len(arr1)\n",
    "num_cols=len(arr1[0])\n",
    "for i in range(0,num_cols):\n",
    "    for j in range(0,num_rows):\n",
    "        \n",
    "        sum_arr[i]+=int(arr1[j][i])\n",
    "for i in sum_arr:\n",
    "    print(i)\n",
    "\n",
    "# https://www.hackerrank.com/contests/smart-interviews-basic/challenges/si-basic-a-sparse-matrix\n",
    "\n",
    "n,m=input().split()\n",
    "n=int(n)\n",
    "m=int(m)\n",
    "arr1=[input().split() for i in range(n)]\n",
    "num_rows=len(arr1)\n",
    "num_cols=len(arr1[0])\n",
    "count=0\n",
    "for i in range(0,num_rows):\n",
    "    for j in range(0,num_cols):\n",
    "        if int(arr1[i][j])==0:\n",
    "            count+=1\n",
    "if count>(n*m)/2:\n",
    "    print(\"Yes\")\n",
    "else:\n",
    "    print(\"No\")\n",
    "\n",
    "# https://www.hackerrank.com/contests/smart-interviews-basic/challenges/si-basic-digits-sum\n",
    "\n",
    "a=int(input())\n",
    "sum=0\n",
    "while a>0:\n",
    "    r=a%10\n",
    "    sum=sum+r\n",
    "    a=a//10\n",
    "print(sum)"
   ]
  },
  {
   "cell_type": "code",
   "execution_count": 109,
   "metadata": {},
   "outputs": [
    {
     "name": "stdout",
     "output_type": "stream",
     "text": [
      "6 1 6\n",
      "Yes 7\n"
     ]
    }
   ],
   "source": [
    "arr=input().split()\n",
    "\n",
    "for i in range(0, len(arr)):    \n",
    "    for j in range(i+1, len(arr)):    \n",
    "        if(arr[i] > arr[j]):    \n",
    "            temp = arr[i];    \n",
    "            arr[i] = arr[j];    \n",
    "            arr[j] = temp;             \n",
    "if len(arr)==3:\n",
    "    if (int(arr[0])+int(arr[1]))>=int(arr[2]) and (int(arr[1])+int(arr[2]))>=int(arr[0]) and (int(arr[0])+int(arr[2]))>=int(arr[1]):\n",
    "        print(\"Yes\",int(arr[0])+int(arr[1])),(int(arr[1])+int(arr[2])),(int(arr[0])+int(arr[2]))\n",
    "    else:\n",
    "        print(\"No\")"
   ]
  },
  {
   "cell_type": "code",
   "execution_count": 119,
   "metadata": {},
   "outputs": [
    {
     "name": "stdout",
     "output_type": "stream",
     "text": [
      "5\n"
     ]
    }
   ],
   "source": [
    "n=11\n",
    "mul_3 = 0\n",
    "mul_5= 0\n",
    "mul_15=0\n",
    "for i in range(1,n+1):\n",
    "    if i%3==0:\n",
    "        mul_3+=1\n",
    "    if i%5==0:\n",
    "        mul_5+=1\n",
    "    if i%15==0:\n",
    "        mul_15+=1\n",
    "print(mul_3+mul_5-mul_15)"
   ]
  },
  {
   "cell_type": "code",
   "execution_count": 113,
   "metadata": {},
   "outputs": [
    {
     "data": {
      "text/plain": [
       "1"
      ]
     },
     "execution_count": 113,
     "metadata": {},
     "output_type": "execute_result"
    }
   ],
   "source": [
    "118%3"
   ]
  }
 ],
 "metadata": {
  "kernelspec": {
   "display_name": "Python 3",
   "language": "python",
   "name": "python3"
  },
  "language_info": {
   "codemirror_mode": {
    "name": "ipython",
    "version": 3
   },
   "file_extension": ".py",
   "mimetype": "text/x-python",
   "name": "python",
   "nbconvert_exporter": "python",
   "pygments_lexer": "ipython3",
   "version": "3.8.3"
  }
 },
 "nbformat": 4,
 "nbformat_minor": 4
}
