{
 "cells": [
  {
   "cell_type": "code",
   "execution_count": null,
   "metadata": {},
   "outputs": [],
   "source": [
    "#https://www.hackerrank.com/challenges/grading/problem\n",
    "\n",
    "grades=[13,45,67,43]\n",
    "new_grade=[]\n",
    "for ind,grade in enumerate(grades):    \n",
    "    if grade >= 38:\n",
    "        if (5-(grade%5))<3:\n",
    "            #new_grade[ind]=grade+(5-grade%5)\n",
    "            #print(new_grade)\n",
    "            new_grade.append(grade+(5-grade%5))\n",
    "        else:\n",
    "            new_grade.append(grade)\n",
    "    else:\n",
    "        new_grade.append(grade)\n",
    "return(new_grade)"
   ]
  },
  {
   "cell_type": "code",
   "execution_count": null,
   "metadata": {},
   "outputs": [],
   "source": [
    "#https://www.hackerrank.com/challenges/diagonal-difference/problem\n",
    "\n",
    "arr= [[11,2,4],[4,5,6],[10,8,-12]]\n",
    "sum1=0\n",
    "sum2=0\n",
    "for ind,i in enumerate(arr):\n",
    "    for j_ind,j in enumerate(i):\n",
    "        if j_ind==ind:\n",
    "            sum1+=j\n",
    "    for j_ind,j in enumerate(i[::-1]):\n",
    "        if j_ind==ind:\n",
    "            sum2+=j   \n",
    "if sum1>sum2:\n",
    "    return(sum1-sum2)\n",
    "else:\n",
    "    return(sum2-sum1)"
   ]
  },
  {
   "cell_type": "code",
   "execution_count": null,
   "metadata": {},
   "outputs": [],
   "source": [
    "#https://www.hackerrank.com/contests/smart-interviews/challenges/si-print-right-angled-triangle-pattern/problem\n",
    "\n",
    "t=int(input())\n",
    "for p in range(1,t+1):\n",
    "    n=int(input())\n",
    "    print(\"Case #\",end='')\n",
    "    print(p,end='')\n",
    "    print(\":\")\n",
    "    \n",
    "    for i in range(1,n+1):\n",
    "        for j in range(n,0,-1):\n",
    "            if j>i:\n",
    "                print(\" \",end='')\n",
    "            else:\n",
    "                print('*',end='')\n",
    "        print()"
   ]
  },
  {
   "cell_type": "code",
   "execution_count": null,
   "metadata": {},
   "outputs": [],
   "source": [
    "#https://www.codechef.com/problems/FLOW006\n",
    "\n",
    "t=int(input())\n",
    "for p in range(1,t+1):\n",
    "    n=int(input())\n",
    "    \n",
    "    l=(\".\".join(str(n))).split('.')\n",
    "    sum=0\n",
    "    for i in l:\n",
    "        sum+=int(i)\n",
    "    print(sum)\n",
    "    "
   ]
  },
  {
   "cell_type": "code",
   "execution_count": null,
   "metadata": {},
   "outputs": [],
   "source": [
    "#http://codeforces.com/problemset/problem/71/A\n",
    "\n",
    "t=int(input())\n",
    "for p in range(1,t+1):\n",
    "    s=str(input())\n",
    "    \n",
    "    if len(s)>10:\n",
    "        new_s=\"\"\n",
    "        new_s+=str(s[0])\n",
    "        new_s+=str(len(s)-2)\n",
    "        new_s+=str(s[len(s)-1])\n",
    "        print(new_s)\n",
    "    else:\n",
    "        print(s)"
   ]
  },
  {
   "cell_type": "code",
   "execution_count": null,
   "metadata": {},
   "outputs": [],
   "source": [
    "#C++\n",
    "#https://www.interviewbit.com/problems/number-of-1-bits/\n",
    "\n",
    "int Solution::numSetBits(unsigned int A) {\n",
    "    int c=0;\n",
    "    while(A>0){\n",
    "        if (A&1==1){\n",
    "            c++;\n",
    "        }\n",
    "        A=A>>1;\n",
    "    }\n",
    "    return(c);\n",
    "}\n"
   ]
  },
  {
   "cell_type": "code",
   "execution_count": null,
   "metadata": {},
   "outputs": [],
   "source": [
    "#https://www.spoj.com/problems/ADDREV/\n",
    "\n",
    "def rev(n1):\n",
    "    l=(\".\".join(str(n1))).split('.')\n",
    "    l=l[::-1]\n",
    "    rev_n=\"\"\n",
    "    for i in l:\n",
    "        rev_n+=(i)\n",
    "    return(int(rev_n))\n",
    "t=int(input())\n",
    "for p in range(1,t+1):\n",
    "    n=input()\n",
    "    n1,n2=n.split()\n",
    "\n",
    "    sum=rev(n1)+rev(n2)\n",
    "    print(rev(sum))\n",
    "    "
   ]
  },
  {
   "cell_type": "code",
   "execution_count": null,
   "metadata": {},
   "outputs": [],
   "source": []
  },
  {
   "cell_type": "code",
   "execution_count": null,
   "metadata": {},
   "outputs": [],
   "source": []
  },
  {
   "cell_type": "code",
   "execution_count": null,
   "metadata": {},
   "outputs": [],
   "source": []
  }
 ],
 "metadata": {
  "kernelspec": {
   "display_name": "Python 3",
   "language": "python",
   "name": "python3"
  },
  "language_info": {
   "codemirror_mode": {
    "name": "ipython",
    "version": 3
   },
   "file_extension": ".py",
   "mimetype": "text/x-python",
   "name": "python",
   "nbconvert_exporter": "python",
   "pygments_lexer": "ipython3",
   "version": "3.7.6"
  }
 },
 "nbformat": 4,
 "nbformat_minor": 4
}
