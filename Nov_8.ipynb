{
 "cells": [
  {
   "cell_type": "code",
   "execution_count": null,
   "metadata": {},
   "outputs": [],
   "source": [
    "#https://www.hackerrank.com/challenges/grading/problem\n",
    "\n",
    "grades=[13,45,67,43]\n",
    "new_grade=[]\n",
    "for ind,grade in enumerate(grades):    \n",
    "    if grade >= 38:\n",
    "        if (5-(grade%5))<3:\n",
    "            #new_grade[ind]=grade+(5-grade%5)\n",
    "            #print(new_grade)\n",
    "            new_grade.append(grade+(5-grade%5))\n",
    "        else:\n",
    "            new_grade.append(grade)\n",
    "    else:\n",
    "        new_grade.append(grade)\n",
    "return(new_grade)"
   ]
  },
  {
   "cell_type": "code",
   "execution_count": null,
   "metadata": {},
   "outputs": [],
   "source": [
    "#https://www.hackerrank.com/challenges/diagonal-difference/problem\n",
    "\n",
    "arr= [[11,2,4],[4,5,6],[10,8,-12]]\n",
    "sum1=0\n",
    "sum2=0\n",
    "for ind,i in enumerate(arr):\n",
    "    for j_ind,j in enumerate(i):\n",
    "        if j_ind==ind:\n",
    "            sum1+=j\n",
    "    for j_ind,j in enumerate(i[::-1]):\n",
    "        if j_ind==ind:\n",
    "            sum2+=j   \n",
    "if sum1>sum2:\n",
    "    return(sum1-sum2)\n",
    "else:\n",
    "    return(sum2-sum1)"
   ]
  },
  {
   "cell_type": "code",
   "execution_count": null,
   "metadata": {},
   "outputs": [],
   "source": [
    "#https://www.hackerrank.com/contests/smart-interviews/challenges/si-print-right-angled-triangle-pattern/problem\n",
    "\n",
    "t=int(input())\n",
    "for p in range(1,t+1):\n",
    "    n=int(input())\n",
    "    print(\"Case #\",end='')\n",
    "    print(p,end='')\n",
    "    print(\":\")\n",
    "    \n",
    "    for i in range(1,n+1):\n",
    "        for j in range(n,0,-1):\n",
    "            if j>i:\n",
    "                print(\" \",end='')\n",
    "            else:\n",
    "                print('*',end='')\n",
    "        print()"
   ]
  },
  {
   "cell_type": "code",
   "execution_count": null,
   "metadata": {},
   "outputs": [],
   "source": [
    "#https://www.codechef.com/problems/FLOW006\n",
    "\n",
    "t=int(input())\n",
    "for p in range(1,t+1):\n",
    "    n=int(input())\n",
    "    \n",
    "    l=(\".\".join(str(n))).split('.')\n",
    "    sum=0\n",
    "    for i in l:\n",
    "        sum+=int(i)\n",
    "    print(sum)\n",
    "    "
   ]
  },
  {
   "cell_type": "code",
   "execution_count": null,
   "metadata": {},
   "outputs": [],
   "source": [
    "#http://codeforces.com/problemset/problem/71/A\n",
    "\n",
    "t=int(input())\n",
    "for p in range(1,t+1):\n",
    "    s=str(input())\n",
    "    \n",
    "    if len(s)>10:\n",
    "        new_s=\"\"\n",
    "        new_s+=str(s[0])\n",
    "        new_s+=str(len(s)-2)\n",
    "        new_s+=str(s[len(s)-1])\n",
    "        print(new_s)\n",
    "    else:\n",
    "        print(s)"
   ]
  },
  {
   "cell_type": "code",
   "execution_count": null,
   "metadata": {},
   "outputs": [],
   "source": [
    "#C++\n",
    "#https://www.interviewbit.com/problems/number-of-1-bits/\n",
    "\n",
    "int Solution::numSetBits(unsigned int A) {\n",
    "    int c=0;\n",
    "    while(A>0){\n",
    "        if (A&1==1){\n",
    "            c++;\n",
    "        }\n",
    "        A=A>>1;\n",
    "    }\n",
    "    return(c);\n",
    "}\n"
   ]
  },
  {
   "cell_type": "code",
   "execution_count": null,
   "metadata": {},
   "outputs": [],
   "source": [
    "#https://www.spoj.com/problems/ADDREV/\n",
    "\n",
    "def rev(n1):\n",
    "    l=(\".\".join(str(n1))).split('.')\n",
    "    l=l[::-1]\n",
    "    rev_n=\"\"\n",
    "    for i in l:\n",
    "        rev_n+=(i)\n",
    "    return(int(rev_n))\n",
    "t=int(input())\n",
    "for p in range(1,t+1):\n",
    "    n=input()\n",
    "    n1,n2=n.split()\n",
    "\n",
    "    sum=rev(n1)+rev(n2)\n",
    "    print(rev(sum))\n",
    "    "
   ]
  },
  {
   "cell_type": "code",
   "execution_count": null,
   "metadata": {},
   "outputs": [],
   "source": [
    "#https://www.hackerrank.com/contests/smart-interviews-basic/challenges/si-basic-sum-of-two-matrices/submissions/code/1328018402\n",
    "\n",
    "n,m=input().split()\n",
    "n=int(n)\n",
    "m=int(m)\n",
    "arr1=[input().split() for i in range(n)]\n",
    "arr2=[input().split() for i in range(n)]\n",
    "sum_arr=[]\n",
    "for i in range(n):\n",
    "    chota_sum=[]\n",
    "    for j in range(m):\n",
    "        chota_sum.append(0)\n",
    "    sum_arr.append(chota_sum)\n",
    "    del (chota_sum)\n",
    "\n",
    "for ind,i in enumerate(arr1):\n",
    "    for j_ind,j in enumerate(arr2):\n",
    "        if ind==j_ind:\n",
    "            for element_ind,element in enumerate(i):\n",
    "                sum_arr[ind][element_ind]=int(element)+int(j[element_ind])\n",
    "\n",
    "for i in sum_arr:\n",
    "    for j in i:\n",
    "        print(j,end=' ')\n",
    "    print()"
   ]
  },
  {
   "cell_type": "code",
   "execution_count": null,
   "metadata": {},
   "outputs": [],
   "source": [
    "# https://www.hackerrank.com/contests/smart-interviews-basic/challenges/si-basic-matrix-row-sum\n",
    "\n",
    "n,m=input().split()\n",
    "n=int(n)\n",
    "m=int(m)\n",
    "arr1=[input().split() for i in range(n)]\n",
    "sum_arr=[0]*n\n",
    "num_rows=len(arr1)\n",
    "num_cols=len(arr1[0])\n",
    "\n",
    "\n",
    "for i in range(0,num_rows):\n",
    "    for j in range(0,num_cols):\n",
    "        sum_arr[i]+=int(arr1[i][j])\n",
    "for i in sum_arr:\n",
    "    print(i)\n",
    "\n",
    "\n",
    "\n"
   ]
  },
  {
   "cell_type": "code",
   "execution_count": null,
   "metadata": {},
   "outputs": [],
   "source": [
    "# https://www.hackerrank.com/contests/smart-interviews-basic/challenges/si-basic-transpose-matrix\n",
    "\n",
    "n,m=input().split()\n",
    "n=int(n)\n",
    "m=int(m)\n",
    "arr1=[input().split() for i in range(n)]\n",
    "new_arr=[]\n",
    "\n",
    "num_rows=len(arr1)\n",
    "num_cols=len(arr1[0])\n",
    "for i in range(0,num_cols):\n",
    "    new_small_arr=[]\n",
    "    for j in range(0,num_rows):\n",
    "        new_small_arr.append(arr1[j][i])\n",
    "    new_arr.append(new_small_arr)\n",
    "    del new_small_arr\n",
    "\n",
    "for  i in new_arr:\n",
    "    for j in i:\n",
    "        print(j,end=' ')\n",
    "    print()\n",
    "\n",
    "\n"
   ]
  },
  {
   "cell_type": "code",
   "execution_count": null,
   "metadata": {},
   "outputs": [],
   "source": [
    "# https://www.hackerrank.com/contests/smart-interviews-basic/challenges/si-basic-matrix-column-sum\n",
    "\n",
    "n,m=input().split()\n",
    "n=int(n)\n",
    "m=int(m)\n",
    "arr1=[input().split() for i in range(n)]\n",
    "sum_arr=[0]*m\n",
    "num_rows=len(arr1)\n",
    "num_cols=len(arr1[0])\n",
    "for i in range(0,num_cols):\n",
    "    for j in range(0,num_rows):\n",
    "        \n",
    "        sum_arr[i]+=int(arr1[j][i])\n",
    "for i in sum_arr:\n",
    "    print(i)\n",
    "\n",
    "\n"
   ]
  },
  {
   "cell_type": "code",
   "execution_count": null,
   "metadata": {},
   "outputs": [],
   "source": [
    "# https://www.hackerrank.com/contests/smart-interviews-basic/challenges/si-basic-a-sparse-matrix\n",
    "\n",
    "n,m=input().split()\n",
    "n=int(n)\n",
    "m=int(m)\n",
    "arr1=[input().split() for i in range(n)]\n",
    "num_rows=len(arr1)\n",
    "num_cols=len(arr1[0])\n",
    "count=0\n",
    "for i in range(0,num_rows):\n",
    "    for j in range(0,num_cols):\n",
    "        if int(arr1[i][j])==0:\n",
    "            count+=1\n",
    "if count>(n*m)/2:\n",
    "    print(\"Yes\")\n",
    "else:\n",
    "    print(\"No\")\n",
    "\n",
    "\n"
   ]
  },
  {
   "cell_type": "code",
   "execution_count": null,
   "metadata": {},
   "outputs": [],
   "source": [
    "# https://www.hackerrank.com/contests/smart-interviews-basic/challenges/si-basic-digits-sum\n",
    "\n",
    "a=int(input())\n",
    "sum=0\n",
    "while a>0:\n",
    "    r=a%10\n",
    "    sum=sum+r\n",
    "    a=a//10\n",
    "print(sum)\n",
    "\n"
   ]
  },
  {
   "cell_type": "code",
   "execution_count": null,
   "metadata": {},
   "outputs": [],
   "source": [
    "# https://www.hackerrank.com/contests/smart-interviews-basic/challenges/si-basic-number-of-multiples/submissions/code/1328044850\n",
    "\n",
    "n=int(input())\n",
    "print(n//3+n//5-n//15)\n"
   ]
  },
  {
   "cell_type": "code",
   "execution_count": null,
   "metadata": {},
   "outputs": [],
   "source": [
    "\n",
    "# https://www.hackerrank.com/challenges/arrays-ds/problem\n",
    "\n",
    "#!/bin/python3\n",
    "\n",
    "import math\n",
    "import os\n",
    "import random\n",
    "import re\n",
    "import sys\n",
    "\n",
    "   "
   ]
  },
  {
   "cell_type": "code",
   "execution_count": null,
   "metadata": {},
   "outputs": [],
   "source": [
    "\n",
    "# Complete the reverseArray function below.\n",
    "def reverseArray(a):\n",
    "    res=[]\n",
    "    for i in range(len(a),0,-1):\n",
    "        #print(a[i-1])\n",
    "        res.append(a[i-1])\n",
    "    return(res)\n",
    "if __name__ == '__main__':\n",
    "    fptr = open(os.environ['OUTPUT_PATH'], 'w')\n",
    "\n",
    "    arr_count = int(input())\n",
    "\n",
    "    arr = list(map(int, input().rstrip().split()))\n",
    "\n",
    "    res = reverseArray(arr)\n",
    "\n",
    "    fptr.write(' '.join(map(str, res)))\n",
    "    fptr.write('\\n')\n",
    "\n",
    "    fptr.close()\n"
   ]
  },
  {
   "cell_type": "code",
   "execution_count": null,
   "metadata": {},
   "outputs": [],
   "source": [
    " \n",
    "# https://www.codechef.com/submit/HS08TEST\n",
    "\n",
    "w=int(input())\n",
    "a=int(input())\n",
    "\n",
    "if (w%5)!=0:\n",
    "    print(a)\n",
    "else:\n",
    "    if a-w>0:\n",
    "        print(a-w-0.5)\n",
    "    else:\n",
    "        print(a)\n"
   ]
  },
  {
   "cell_type": "code",
   "execution_count": null,
   "metadata": {},
   "outputs": [],
   "source": [
    "# https://codeforces.com/problemset/problem/4/A\n",
    "\n",
    "a=int(input())\n",
    "if a%2==0:\n",
    "    if a==2:\n",
    "        print(\"No\")\n",
    "    else:\n",
    "        print(\"Yes\")\n",
    "else:\n",
    "    print(\"No\")\n",
    "\n",
    "\n"
   ]
  },
  {
   "cell_type": "code",
   "execution_count": null,
   "metadata": {},
   "outputs": [],
   "source": [
    "\n",
    "# https://codeforces.com/problemset/problem/231/A\n",
    "\n",
    "n=int(input())\n",
    "a=[]\n",
    "a_yes=0\n",
    "c_yes=0\n",
    "c_no=0\n",
    "for i in range(n):\n",
    "    a.append(list(map(int,input().split(' '))))\n",
    "for i in a:\n",
    "    for j in i:\n",
    "        if j==1:\n",
    "            c_yes+=1\n",
    "        else:\n",
    "            c_no+=1\n",
    "    \n",
    "    if c_yes>=2:\n",
    "        a_yes+=1\n",
    "    c_yes=0\n",
    "    c_no=0\n",
    "print(a_yes)"
   ]
  },
  {
   "cell_type": "code",
   "execution_count": null,
   "metadata": {},
   "outputs": [],
   "source": [
    "# https://codeforces.com/problemset/problem/158/A \n",
    "\n",
    "n,val=list(map(int,input().split(' ')))\n",
    "c=0\n",
    "a=list(map(int,input().split(' ')))\n",
    "if sum(a)>0:\n",
    "    for i in a:\n",
    "        if i>=a[val-1] and i!=0:\n",
    "            c+=1\n",
    "    print(c)\n",
    "else:\n",
    "    print(0)\n",
    "    "
   ]
  },
  {
   "cell_type": "code",
   "execution_count": null,
   "metadata": {},
   "outputs": [],
   "source": [
    "# https://codeforces.com/problemset/problem/158/A \n",
    "\n",
    "n,val=list(map(int,input().split(' ')))\n",
    "c=0\n",
    "a=list(map(int,input().split(' ')))\n",
    "if sum(a)>0:\n",
    "    for i in a:\n",
    "        if i>=a[val-1] and i!=0:\n",
    "            c+=1\n",
    "    print(c)\n",
    "else:\n",
    "    print(0)\n",
    "    \n"
   ]
  },
  {
   "cell_type": "code",
   "execution_count": null,
   "metadata": {},
   "outputs": [],
   "source": [
    "\n",
    "# https://codeforces.com/problemset/problem/50/A\n",
    "\n",
    "m,n=list(map(int,input().split(' ')))\n",
    "\n",
    "print(m*n//2)"
   ]
  },
  {
   "cell_type": "code",
   "execution_count": null,
   "metadata": {},
   "outputs": [],
   "source": [
    "\n",
    "# https://codeforces.com/problemset/problem/282/A\n",
    "\n",
    "n=int(input())\n",
    "x=0\n",
    "for i in range(n):\n",
    "    a= input()\n",
    "    if a in ['X++','++X']:\n",
    "        x+=1\n",
    "    if a in ['--X','X--']:\n",
    "        x-=1\n",
    "print(x)\n"
   ]
  },
  {
   "cell_type": "code",
   "execution_count": null,
   "metadata": {},
   "outputs": [],
   "source": [
    "# https://codeforces.com/problemset/problem/112/A\n",
    "\n",
    "a=input().lower()\n",
    "b=input().lower()\n",
    "if a>b:\n",
    "    print(1)\n",
    "elif a<b:\n",
    "    print(-1)\n",
    "else:\n",
    "    print(0)"
   ]
  },
  {
   "cell_type": "code",
   "execution_count": 24,
   "metadata": {},
   "outputs": [
    {
     "name": "stdout",
     "output_type": "stream",
     "text": [
      "0 0 0 0 0\n",
      "1 0 0 0 0\n",
      "0 0 0 0 0\n",
      "0 0 0 0 0\n",
      "0 0 0 0 0\n",
      "[[0, 0, 0, 0, 0], [1, 0, 0, 0, 0], [0, 0, 0, 0, 0], [0, 0, 0, 0, 0], [0, 0, 0, 0, 0]]\n"
     ]
    }
   ],
   "source": [
    "# https://codeforces.com/problemset/problem/263/A\n",
    "a=[]\n",
    "for i in range(5):\n",
    "    a.append(list(map(int,input().split(' '))))\n",
    "r=0\n",
    "c=0\n",
    "rs=0\n",
    "cs=0\n",
    "for i in range(len(a)):\n",
    "    for j in range(5):\n",
    "        if a[i][j]==1:\n",
    "            r,c=i,j\n",
    "            break\n",
    "r=r+1\n",
    "c=c+1\n",
    "\n",
    "if r>=3:\n",
    "    rs=r-3\n",
    "else:\n",
    "    rs=3-r\n",
    "if c>=3:\n",
    "    cs=c-3\n",
    "else:\n",
    "    cs=3-c\n",
    "print(rs+cs)"
   ]
  },
  {
   "cell_type": "code",
   "execution_count": 55,
   "metadata": {
    "scrolled": true
   },
   "outputs": [
    {
     "name": "stdout",
     "output_type": "stream",
     "text": [
      "z\n",
      "Z\n"
     ]
    }
   ],
   "source": [
    "# https://codeforces.com/problemset/problem/281/A\n",
    "a=input()\n",
    "if a[0].islower():\n",
    "    print(a[0].upper()+a[1:])\n",
    "else:\n",
    "    print(a)"
   ]
  },
  {
   "cell_type": "code",
   "execution_count": 74,
   "metadata": {},
   "outputs": [
    {
     "name": "stdout",
     "output_type": "stream",
     "text": [
      "1+1+3+1+3\n",
      "1+1+1+3+3\n"
     ]
    }
   ],
   "source": [
    "# https://codeforces.com/problemset/problem/339/A\n",
    "\n",
    "a= list(map(int,input().split('+')))\n",
    "a.sort()\n",
    "res=\"\"\n",
    "for i in a:\n",
    "    res+=str(i)+\"+\"\n",
    "print(res[:-1])"
   ]
  },
  {
   "cell_type": "code",
   "execution_count": 124,
   "metadata": {},
   "outputs": [
    {
     "name": "stdout",
     "output_type": "stream",
     "text": [
      "1 2 3\n",
      "No\n"
     ]
    }
   ],
   "source": [
    "# https://www.hackerrank.com/contests/smart-interviews-basic/challenges/si-basic-triangle-validator/problem\n",
    "\n",
    "n=list(map(int,input().split(' ')))\n",
    "case_results=[]\n",
    "master=[]\n",
    "count=0\n",
    "new=[]\n",
    "for i in range(len(n)):\n",
    "    \n",
    "    a=n.copy()\n",
    "    first=a.pop(i)\n",
    "    second,third=a\n",
    "    new= [j for j in [first,second,third]]\n",
    "    master.append(new)\n",
    "    a.reverse()\n",
    "    second,third=a\n",
    "    new= [j for j in [first,second,third]]\n",
    "    master.append(new)\n",
    "    del new\n",
    "for i in master:\n",
    "    a,b,c=i\n",
    "    if a+b>c:\n",
    "        count+=1\n",
    "    else:\n",
    "        print(\"No\")\n",
    "        break\n",
    "if count==6:\n",
    "    print(\"Yes\")"
   ]
  },
  {
   "cell_type": "code",
   "execution_count": 173,
   "metadata": {
    "scrolled": true
   },
   "outputs": [
    {
     "name": "stdout",
     "output_type": "stream",
     "text": [
      "60\n",
      "8320987112741390144276341183223364380754172606361245952449277696409600000000000000\n"
     ]
    }
   ],
   "source": [
    "# https://www.hackerrank.com/contests/smart-interviews-basic/challenges/si-basic-long-factorial\n",
    "\n",
    "n=int(input())\n",
    "a=[1]\n",
    "for i in range(1,n+1):\n",
    "    a.append(a[i-1]*i)\n",
    "print(a[-1])"
   ]
  },
  {
   "cell_type": "code",
   "execution_count": null,
   "metadata": {
    "scrolled": false
   },
   "outputs": [],
   "source": []
  },
  {
   "cell_type": "code",
   "execution_count": 32,
   "metadata": {},
   "outputs": [
    {
     "name": "stdout",
     "output_type": "stream",
     "text": [
      "3\n",
      "[4, 5, 1, 2, 3]\n"
     ]
    },
    {
     "data": {
      "text/plain": [
       "\"\\n#Submission\\n#!/bin/python3\\n\\nimport math\\nimport os\\nimport random\\nimport re\\nimport sys\\n\\n#\\n# Complete the 'rotateLeft' function below.\\n#\\n# The function is expected to return an INTEGER_ARRAY.\\n# The function accepts following parameters:\\n#  1. INTEGER d\\n#  2. INTEGER_ARRAY arr\\n#\\n\\ndef rotateLeft(d, arr):\\n    # Write your code here\\n    temp=[]\\n    pos=d\\n    \\n    if pos>len(arr):\\n        pos=pos%len(arr)\\n    temp=arr[0:pos]\\n    new=arr[pos:]\\n    new.extend(temp)\\n    return(new)\\n\\nif __name__ == '__main__':\\n    fptr = open(os.environ['OUTPUT_PATH'], 'w')\\n\\n    first_multiple_input = input().rstrip().split()\\n\\n    n = int(first_multiple_input[0])\\n\\n    d = int(first_multiple_input[1])\\n\\n    arr = list(map(int, input().rstrip().split()))\\n\\n    result = rotateLeft(d, arr)\\n\\n    fptr.write(' '.join(map(str, result)))\\n    fptr.write('\\n')\\n\\n    fptr.close()\\n\""
      ]
     },
     "execution_count": 32,
     "metadata": {},
     "output_type": "execute_result"
    }
   ],
   "source": [
    "#https://www.hackerrank.com/challenges/array-left-rotation/problem\n",
    "\n",
    "#Logic:\n",
    "arr=[1,2,3,4,5]\n",
    "temp=[]\n",
    "pos=int(input())\n",
    "\n",
    "if pos>len(arr):\n",
    "    pos=pos%len(arr)\n",
    "temp=arr[0:pos]\n",
    "new=arr[pos:]\n",
    "new.extend(temp)\n",
    "print(new)\n",
    "\n",
    "\"\"\"\n",
    "#Submission\n",
    "#!/bin/python3\n",
    "\n",
    "import math\n",
    "import os\n",
    "import random\n",
    "import re\n",
    "import sys\n",
    "\n",
    "#\n",
    "# Complete the 'rotateLeft' function below.\n",
    "#\n",
    "# The function is expected to return an INTEGER_ARRAY.\n",
    "# The function accepts following parameters:\n",
    "#  1. INTEGER d\n",
    "#  2. INTEGER_ARRAY arr\n",
    "#\n",
    "\n",
    "def rotateLeft(d, arr):\n",
    "    # Write your code here\n",
    "    temp=[]\n",
    "    pos=d\n",
    "    \n",
    "    if pos>len(arr):\n",
    "        pos=pos%len(arr)\n",
    "    temp=arr[0:pos]\n",
    "    new=arr[pos:]\n",
    "    new.extend(temp)\n",
    "    return(new)\n",
    "\n",
    "if __name__ == '__main__':\n",
    "    fptr = open(os.environ['OUTPUT_PATH'], 'w')\n",
    "\n",
    "    first_multiple_input = input().rstrip().split()\n",
    "\n",
    "    n = int(first_multiple_input[0])\n",
    "\n",
    "    d = int(first_multiple_input[1])\n",
    "\n",
    "    arr = list(map(int, input().rstrip().split()))\n",
    "\n",
    "    result = rotateLeft(d, arr)\n",
    "\n",
    "    fptr.write(' '.join(map(str, result)))\n",
    "    fptr.write('\\n')\n",
    "\n",
    "    fptr.close()\n",
    "\"\"\""
   ]
  },
  {
   "cell_type": "code",
   "execution_count": 41,
   "metadata": {},
   "outputs": [
    {
     "name": "stdout",
     "output_type": "stream",
     "text": [
      "1\n",
      "8735373\n",
      "2183837\n"
     ]
    }
   ],
   "source": [
    "# https://www.spoj.com/problems/FCTRL/\n",
    "\n",
    "t=int(input())\n",
    "for tc in range(t):\n",
    "    count=0\n",
    "    n=int(input())\n",
    "    i=5\n",
    "    rem=n//i\n",
    "    while(rem!=0):\n",
    "        rem=n//i\n",
    "        count+=rem\n",
    "        i=i*5\n",
    "    print(count)"
   ]
  },
  {
   "cell_type": "code",
   "execution_count": null,
   "metadata": {},
   "outputs": [],
   "source": [
    "# https://www.hackerrank.com/contests/smart-interviews-basic/challenges/si-basic-natural-numbers-sum/problem\n",
    "\n",
    "n=int(input())\n",
    "print(round(n*(n+1)/2))"
   ]
  },
  {
   "cell_type": "code",
   "execution_count": null,
   "metadata": {},
   "outputs": [],
   "source": [
    "# https://www.hackerrank.com/contests/smart-interviews-basic/challenges/si-basic-cubes-sum/problem\n",
    "\n",
    "n=int(input())\n",
    "print(int((n*(n+1))*(n*(n+1))/4))"
   ]
  },
  {
   "cell_type": "code",
   "execution_count": null,
   "metadata": {},
   "outputs": [],
   "source": [
    "# https://www.hackerrank.com/contests/smart-interviews-basic/challenges/si-basic-squares-sum/problem\n",
    "\n",
    "n=int(input())\n",
    "print(int(n*(n+1)*((2*n)+1)/6))"
   ]
  },
  {
   "cell_type": "code",
   "execution_count": 147,
   "metadata": {
    "scrolled": true
   },
   "outputs": [
    {
     "name": "stdout",
     "output_type": "stream",
     "text": [
      "153\n"
     ]
    }
   ],
   "source": [
    "# https://www.hackerrank.com/contests/smart-interviews-basic/challenges/si-basic-check-armstrong-number\n",
    "\n",
    "n=int(input())\n",
    "sum1=0\n",
    "a=n\n",
    "while n!=0:\n",
    "    rem=n%10\n",
    "    sum1+=rem**3\n",
    "    n=n//10\n",
    "if sum1==a:\n",
    "    print(\"Yes\")\n",
    "else:\n",
    "    print(\"No\")"
   ]
  },
  {
   "cell_type": "code",
   "execution_count": 130,
   "metadata": {
    "scrolled": true
   },
   "outputs": [
    {
     "name": "stdout",
     "output_type": "stream",
     "text": [
      "8208\n",
      "Yes\n"
     ]
    }
   ],
   "source": [
    "# https://www.hackerrank.com/contests/smart-interviews-basic/challenges/si-basic-narcissistic-numbers/problem\n",
    "\n",
    "n=input()\n",
    "sum1=0\n",
    "dig=len(\".\".join(n).split('.'))\n",
    "a=int(n)\n",
    "while n!=0:\n",
    "    #print(n%10)\n",
    "    rem=int(n)%10\n",
    "    sum1+=rem**dig\n",
    "    n=int(n)//10\n",
    "if sum1==a:\n",
    "    print(\"Yes\")\n",
    "else:\n",
    "    print(\"No\")"
   ]
  },
  {
   "cell_type": "code",
   "execution_count": 129,
   "metadata": {
    "scrolled": true
   },
   "outputs": [
    {
     "name": "stdout",
     "output_type": "stream",
     "text": [
      "18\n",
      "Yes\n"
     ]
    }
   ],
   "source": [
    "# https://www.hackerrank.com/contests/smart-interviews-basic/challenges/si-basic-harshad-number\n",
    "\n",
    "n=input()\n",
    "sum1=0\n",
    "new=list(map(int,list(\".\".join(n).split('.'))))\n",
    "for i in new:\n",
    "    sum1+=i\n",
    "if int(n)%sum1==0:\n",
    "    print(\"Yes\")\n",
    "else:\n",
    "    print(\"No\")\n"
   ]
  },
  {
   "cell_type": "code",
   "execution_count": null,
   "metadata": {},
   "outputs": [],
   "source": []
  },
  {
   "cell_type": "code",
   "execution_count": 106,
   "metadata": {},
   "outputs": [
    {
     "name": "stdout",
     "output_type": "stream",
     "text": [
      "73\n",
      "Yes\n"
     ]
    }
   ],
   "source": [
    "# https://www.hackerrank.com/contests/smart-interviews-basic/challenges/si-basic-prime-or-not/problem\n",
    "\n",
    "n=int(input())\n",
    "i=2\n",
    "count=0\n",
    "while(i**2<=n):\n",
    "    if n<2:\n",
    "        break\n",
    "    if n==2:\n",
    "        break\n",
    "    else:\n",
    "        if n%i==0:\n",
    "            if i!=n:\n",
    "                count+=1\n",
    "    i+=1\n",
    "if count==0:\n",
    "    if n!=1:\n",
    "        print('Yes')\n",
    "    else:\n",
    "        print(\"No\")\n",
    "else:\n",
    "    print(\"No\")\n"
   ]
  },
  {
   "cell_type": "code",
   "execution_count": 54,
   "metadata": {
    "scrolled": false
   },
   "outputs": [
    {
     "name": "stdout",
     "output_type": "stream",
     "text": [
      "-235\n",
      "-532\n"
     ]
    }
   ],
   "source": [
    "# https://www.hackerrank.com/contests/smart-interviews-basic/challenges/si-basic-number-reverse\n",
    "\n",
    "def rev(num):\n",
    "    n=num\n",
    "    while n!=0:\n",
    "        rem=n%10\n",
    "        l.append(rem)\n",
    "        n=n//10\n",
    "    return(list(map(int,l)))\n",
    "\n",
    "num=int(input())\n",
    "l=[]\n",
    "sum1=0\n",
    "\n",
    "if num<0:\n",
    "    new=rev(num*-1)\n",
    "    for ind,i in enumerate(new):\n",
    "        dig=10**(len(new)-1-ind)\n",
    "        sum1=sum1+dig*i\n",
    "    print(sum1*-1)\n",
    "if num>=0:\n",
    "    new=rev(num)\n",
    "    for ind,i in enumerate(new):\n",
    "        dig=10**(len(new)-1-ind)\n",
    "        sum1=sum1+dig*i\n",
    "    print(sum1)\n",
    "\n"
   ]
  },
  {
   "cell_type": "code",
   "execution_count": 117,
   "metadata": {
    "scrolled": false
   },
   "outputs": [
    {
     "name": "stdout",
     "output_type": "stream",
     "text": [
      "5\n",
      "1 \n",
      "2 3 \n",
      "4 5 6 \n",
      "7 8 9 10 \n",
      "11 12 13 14 15 \n"
     ]
    }
   ],
   "source": [
    "# https://www.hackerrank.com/contests/smart-interviews-basic/challenges/si-basic-right-angled-triangle-pattern-1\n",
    "\n",
    "n=int(input())\n",
    "count=1\n",
    "for i in range(1,n+1):\n",
    "    for j in range(i):\n",
    "        print(count,end=' ')\n",
    "        count+=1\n",
    "    print()\n"
   ]
  },
  {
   "cell_type": "code",
   "execution_count": 123,
   "metadata": {},
   "outputs": [
    {
     "name": "stdout",
     "output_type": "stream",
     "text": [
      "askhtwsflkqwertyuiopasdfghjklzxcvbnm\n",
      "Yes\n"
     ]
    }
   ],
   "source": [
    "# https://www.hackerrank.com/contests/smart-interviews-basic/challenges/si-basic-letters-of-the-alphabet\n",
    "\n",
    "s=input()\n",
    "if len(set(s.lower()))==26:\n",
    "    print(\"Yes\")\n",
    "    print(\"No\")"
   ]
  },
  {
   "cell_type": "code",
   "execution_count": 182,
   "metadata": {
    "scrolled": true
   },
   "outputs": [
    {
     "name": "stdout",
     "output_type": "stream",
     "text": [
      "4\n",
      "1\n",
      "25\n",
      "368\n",
      "47910\n"
     ]
    }
   ],
   "source": [
    "# https://www.hackerrank.com/contests/smart-interviews-basic/challenges/si-basic-right-angled-triangle-pattern-2\n",
    "\n",
    "n=int(input())\n",
    "\n",
    "for i in range(1,n+1):\n",
    "    value=i\n",
    "    for j in range(1,i+1):\n",
    "        print(value,end=' ')\n",
    "        value+=n-j\n",
    "    print()"
   ]
  },
  {
   "cell_type": "code",
   "execution_count": 188,
   "metadata": {},
   "outputs": [
    {
     "name": "stdout",
     "output_type": "stream",
     "text": [
      "sf4\n",
      "No\n"
     ]
    }
   ],
   "source": [
    "# https://www.hackerrank.com/contests/smart-interviews-basic/challenges/si-basic-digits-in-a-string\n",
    "\n",
    "s=input()\n",
    "count=0\n",
    "for i in s:\n",
    "    if 47<ord(str(i))<58:\n",
    "        count+=1\n",
    "if count==len(s):\n",
    "    print(\"Yes\")\n",
    "else:\n",
    "    print(\"No\")"
   ]
  },
  {
   "cell_type": "code",
   "execution_count": 190,
   "metadata": {},
   "outputs": [
    {
     "name": "stdout",
     "output_type": "stream",
     "text": [
      "aeio\n",
      "Yes\n"
     ]
    }
   ],
   "source": [
    "# https://www.hackerrank.com/contests/smart-interviews-basic/challenges/si-basic-vowels-in-a-string\n",
    "\n",
    "s=input()\n",
    "s=s.lower()\n",
    "vow=['a','e','i','o','u']\n",
    "count=0\n",
    "for i in s:\n",
    "    if i in vow:\n",
    "        count+=1\n",
    "if count==len(s):\n",
    "    print(\"Yes\")\n",
    "else:\n",
    "    print(\"No\")"
   ]
  },
  {
   "cell_type": "code",
   "execution_count": 239,
   "metadata": {
    "scrolled": true
   },
   "outputs": [
    {
     "name": "stdout",
     "output_type": "stream",
     "text": [
      "6\n",
      "     *\n",
      "    *** \n",
      "   *****  \n",
      "  *******   \n",
      " *********    \n",
      "***********     \n"
     ]
    }
   ],
   "source": [
    "# https://www.hackerrank.com/contests/smart-interviews-basic/challenges/si-basic-print-pyramid-pattern\n",
    "\n",
    "n=int(input())\n",
    "l=[]\n",
    "for i in range(1,n+1):\n",
    "    l.append(\"*\"*(i*2-1))\n",
    "l=l[::-1]\n",
    "p1=((2*n)+1)//2\n",
    "for i in range(1,n+1):\n",
    "    for j in range(1,n+1):\n",
    "            if j==p1:\n",
    "                print(l[p1-1],end='')\n",
    "                p1-=1\n",
    "            else:\n",
    "                print(' ',end='')\n",
    "    print()\n",
    "          \n",
    "            \n",
    "    "
   ]
  },
  {
   "cell_type": "code",
   "execution_count": 240,
   "metadata": {
    "scrolled": true
   },
   "outputs": [
    {
     "name": "stdout",
     "output_type": "stream",
     "text": [
      "5\n",
      "5 * 1 = 5\n",
      "5 * 2 = 10\n",
      "5 * 3 = 15\n",
      "5 * 4 = 20\n",
      "5 * 5 = 25\n",
      "5 * 6 = 30\n",
      "5 * 7 = 35\n",
      "5 * 8 = 40\n",
      "5 * 9 = 45\n",
      "5 * 10 = 50\n"
     ]
    }
   ],
   "source": [
    "# https://www.hackerrank.com/contests/smart-interviews-basic/challenges/si-basic-print-multiplication-table\n",
    "\n",
    "n=int(input())\n",
    "\n",
    "for i in range(1,11):\n",
    "    print(\"{} * {} = {}\".format(n,i,n*i))"
   ]
  },
  {
   "cell_type": "code",
   "execution_count": 268,
   "metadata": {},
   "outputs": [
    {
     "name": "stdout",
     "output_type": "stream",
     "text": [
      "5\n",
      "*\n",
      "**\n",
      "***\n",
      "****\n",
      "*****\n",
      "****\n",
      "***\n",
      "**\n",
      "*\n"
     ]
    }
   ],
   "source": [
    "# https://www.hackerrank.com/contests/smart-interviews-basic/challenges/si-basic-print-half-diamond-pattern\n",
    "\n",
    "maximum=int(input()) #n=int(input())\n",
    "n=(2*maximum)-1 #maximum=int((n+1)/2)\n",
    "l=[]\n",
    "p1=maximum-1\n",
    "for i in range(1,n+1):\n",
    "    if i<=maximum:\n",
    "        l.append(\"*\"*i)\n",
    "    else:\n",
    "        l.append(\"*\"*p1)\n",
    "        p1-=1\n",
    "for i in range(0,n):\n",
    "    print(l[i])"
   ]
  },
  {
   "cell_type": "code",
   "execution_count": 285,
   "metadata": {},
   "outputs": [
    {
     "name": "stdout",
     "output_type": "stream",
     "text": [
      "vamsiisvamsi\n",
      "vamsiisvamsi i\n",
      "0\n"
     ]
    }
   ],
   "source": [
    "# https://www.hackerrank.com/contests/smart-interviews-basic/challenges/si-basic-prefix-and-suffix\n",
    "\n",
    "s=input()\n",
    "l=\"\"\n",
    "new=set()\n",
    "pos1=0\n",
    "pos2=0\n",
    "if len(set(s))==1:\n",
    "    print(len(s)-1)\n",
    "else:\n",
    "    for i in range(len(s)):\n",
    "        last=s[-pos2:len(s)]\n",
    "        first=s[0:pos1]\n",
    "        new.add(first)\n",
    "        if last!=first:\n",
    "            pos1+=1\n",
    "            pos2+=1\n",
    "    print(len(max(new)))"
   ]
  },
  {
   "cell_type": "code",
   "execution_count": null,
   "metadata": {},
   "outputs": [],
   "source": []
  },
  {
   "cell_type": "code",
   "execution_count": 64,
   "metadata": {
    "scrolled": true
   },
   "outputs": [
    {
     "name": "stdout",
     "output_type": "stream",
     "text": [
      "wwwww\n",
      "4\n"
     ]
    }
   ],
   "source": [
    "s=input()\n",
    "l=\"\"\n",
    "new=set()\n",
    "pos1=0\n",
    "pos2=0\n",
    "if len(set(s))==1:\n",
    "    print(len(s)-1)\n",
    "else:\n",
    "    for i in range(len(s)):\n",
    "        last=s[-pos2:len(s)]\n",
    "        first=s[0:pos1]\n",
    "        new.add(first)\n",
    "        if last!=first:\n",
    "            pos1+=1\n",
    "            pos2+=1\n",
    "    print(len(max(new)))"
   ]
  },
  {
   "cell_type": "code",
   "execution_count": null,
   "metadata": {},
   "outputs": [],
   "source": []
  },
  {
   "cell_type": "code",
   "execution_count": null,
   "metadata": {},
   "outputs": [],
   "source": [
    "\n"
   ]
  },
  {
   "cell_type": "code",
   "execution_count": null,
   "metadata": {},
   "outputs": [],
   "source": []
  },
  {
   "cell_type": "code",
   "execution_count": 325,
   "metadata": {
    "scrolled": true
   },
   "outputs": [
    {
     "name": "stdout",
     "output_type": "stream",
     "text": [
      "aaaBBBBhhhekkL\n",
      "a 1\n",
      "a 2\n",
      "--- a 2\n",
      "B 1\n",
      "B 2\n",
      "B 3\n",
      "--- B 3\n",
      "h 1\n",
      "h 2\n",
      "--- h 2\n",
      "--- e 0\n",
      "k 1\n",
      "--- k 1\n",
      "--- L 0\n"
     ]
    }
   ],
   "source": [
    "#aaaBBBBhhhekkL\n",
    "#https://www.hackerrank.com/contests/smart-interviews-basic/challenges/si-basic-compress-a-string\n",
    "\n",
    "s = input()\n",
    "l=list(s)\n",
    "p1=0\n",
    "p2=1\n",
    "count=0\n",
    "for ind,i in enumerate(l):\n",
    "    if p2<len(l):\n",
    "        if l[p1]==l[p2]:\n",
    "            count+=1\n",
    "            print(i,count)\n",
    "        else:\n",
    "            print(\"---\",i,count)\n",
    "            count=0\n",
    "            \n",
    "    \n",
    "    if p1==len(l)-1:\n",
    "        if l[p1]==l[-1]:\n",
    "            print(\"---\",i,count)\n",
    "    p1+=1\n",
    "    p2+=1"
   ]
  },
  {
   "cell_type": "code",
   "execution_count": 30,
   "metadata": {},
   "outputs": [
    {
     "name": "stdout",
     "output_type": "stream",
     "text": [
      "wjmzbmr\n",
      "CHAT WITH HER!\n"
     ]
    }
   ],
   "source": [
    "# https://codeforces.com/problemset/problem/236/A\n",
    "\n",
    "s=input()\n",
    "num=len(set(s))\n",
    "if num%2==0:\n",
    "    print(\"CHAT WITH HER!\")\n",
    "else:\n",
    "    print(\"IGNORE HIM!\")"
   ]
  },
  {
   "cell_type": "code",
   "execution_count": 47,
   "metadata": {},
   "outputs": [
    {
     "name": "stdout",
     "output_type": "stream",
     "text": [
      "30 120\n",
      "89.50\n"
     ]
    }
   ],
   "source": [
    "# https://www.codechef.com/problems/HS08TEST\n",
    "\n",
    "withdrawal_amount, balance_amount = input().split()              \n",
    "withdrawal_amount = int(withdrawal_amount)                        \n",
    "balance_amount = float(balance_amount)                            \n",
    "if (withdrawal_amount % 5 == 0 and balance_amount>(withdrawal_amount+.5)):\n",
    "    balance_amount = balance_amount - withdrawal_amount - 0.5     \n",
    "    print('%.2f' % balance_amount)\n",
    "else:\n",
    "    print('%.2f' % balance_amount)\n"
   ]
  },
  {
   "cell_type": "code",
   "execution_count": 46,
   "metadata": {},
   "outputs": [
    {
     "name": "stdout",
     "output_type": "stream",
     "text": [
      "2\n",
      "123\n",
      "4\n",
      "123\n",
      "4\n"
     ]
    }
   ],
   "source": [
    "# https://www.codechef.com/problems/FLOW004\n",
    "t=int(input())\n",
    "for i in range(t):\n",
    "    n=input()\n",
    "    l=len(n)\n",
    "    sum1=int(n[0])+int(n[l-1])\n",
    "    print(sum1)"
   ]
  },
  {
   "cell_type": "code",
   "execution_count": 51,
   "metadata": {},
   "outputs": [
    {
     "name": "stdout",
     "output_type": "stream",
     "text": [
      "8\n",
      "8\n"
     ]
    }
   ],
   "source": [
    "# https://www.codechef.com/submit/START01\n",
    "\n",
    "n=input()\n",
    "print(n)"
   ]
  },
  {
   "cell_type": "code",
   "execution_count": 50,
   "metadata": {},
   "outputs": [
    {
     "name": "stdout",
     "output_type": "stream",
     "text": [
      "5 3\n",
      "12\n",
      "23\n",
      "34\n",
      "45\n",
      "48\n",
      "3\n"
     ]
    }
   ],
   "source": [
    "# https://www.codechef.com/problems/INTEST\n",
    "count=0\n",
    "n, k = list(map(int,input().split()))\n",
    "for i in range(n):\n",
    "    val=int(input())\n",
    "    if val%k==0:\n",
    "        count+=1\n",
    "    del val\n",
    "print(count)"
   ]
  },
  {
   "cell_type": "code",
   "execution_count": 52,
   "metadata": {},
   "outputs": [
    {
     "name": "stdout",
     "output_type": "stream",
     "text": [
      "2\n",
      "123 10\n",
      "3\n",
      "125 5\n",
      "0\n"
     ]
    }
   ],
   "source": [
    "# https://www.codechef.com/problems/FLOW002\n",
    "\n",
    "t=int(input())\n",
    "\n",
    "for i in range(t):\n",
    "    n, k = list(map(int,input().split()))\n",
    "    print(n%k)a\n",
    "    "
   ]
  },
  {
   "cell_type": "code",
   "execution_count": 77,
   "metadata": {},
   "outputs": [
    {
     "name": "stdout",
     "output_type": "stream",
     "text": [
      "2\n",
      "124\n",
      "421\n",
      "670\n",
      "76\n"
     ]
    }
   ],
   "source": [
    "# https://www.codechef.com/problems/FLOW007\n",
    "\n",
    "def reverseArray(a):\n",
    "    res=[]\n",
    "    for i in range(len(a),0,-1):\n",
    "        #print(a[i-1])\n",
    "        res.append(a[i-1])\n",
    "    return(res)\n",
    "\n",
    "t = int(input())\n",
    "for i in range(t):\n",
    "    arr = int(input())\n",
    "    if arr%10==0:\n",
    "        rem=0\n",
    "        while(rem==0):\n",
    "            arr=arr//10\n",
    "            rem=arr%10\n",
    "    #print(arr)\n",
    "    res = reverseArray(str(arr))\n",
    "    print(''.join(map(str, res)))\n",
    "\n"
   ]
  },
  {
   "cell_type": "code",
   "execution_count": 85,
   "metadata": {
    "scrolled": true
   },
   "outputs": [
    {
     "name": "stdout",
     "output_type": "stream",
     "text": [
      "2\n",
      "56 67 3\n",
      "56\n",
      "78 90 25\n",
      "78\n"
     ]
    }
   ],
   "source": [
    "# https://www.codechef.com/submit/FLOW017\n",
    "#second largest\n",
    "t = int(input())\n",
    "for i in range(t):\n",
    "    l = list(map(int,input().split()))\n",
    "    \n",
    "    for i in range(len(l)):\n",
    "        for j in range(i,len(l)):\n",
    "            if l[i]>l[j]:\n",
    "                l[i],l[j]=l[j],l[i]\n",
    "    print(l[1])\n",
    "    "
   ]
  },
  {
   "cell_type": "code",
   "execution_count": null,
   "metadata": {},
   "outputs": [],
   "source": [
    "40 40 100\n",
    "45 45 90\n",
    "180 1 1"
   ]
  },
  {
   "cell_type": "code",
   "execution_count": 109,
   "metadata": {},
   "outputs": [
    {
     "name": "stdout",
     "output_type": "stream",
     "text": [
      "3\n",
      "40 40 100\n",
      "Yes\n",
      "45 45 90\n",
      "Yes\n",
      "180 1 1\n",
      "No\n"
     ]
    }
   ],
   "source": [
    "#Doubt\n",
    "#https://www.codechef.com/problems/FLOW013\n",
    "t=int(input())\n",
    "for i in range(t):\n",
    "    a,b,c=list(map(int,input().split()))\n",
    "    if a==0 or b==0 or c==0:\n",
    "        print(\"No\")\n",
    "        break\n",
    "    elif a+b+c ==180:\n",
    "        print(\"Yes\")\n",
    "    else:\n",
    "        print(\"No\")\n",
    "    "
   ]
  },
  {
   "cell_type": "code",
   "execution_count": null,
   "metadata": {},
   "outputs": [],
   "source": [
    "# https://www.codechef.com/problems/FLOW018\n",
    "#factorial\n",
    "t=int(input())\n",
    "for i in range(t):\n",
    "    n=int(input())\n",
    "    a=[1]\n",
    "    for i in range(1,n+1):\n",
    "        a.append(a[i-1]*i)\n",
    "    print(a[-1])   "
   ]
  },
  {
   "cell_type": "code",
   "execution_count": null,
   "metadata": {},
   "outputs": [],
   "source": [
    "# https://www.codechef.com/problems/FSQRT\n",
    "#square root\n",
    "\n",
    "import math\n",
    "t=int(input())\n",
    "\n",
    "for i in range(t):\n",
    "    n=int(input())\n",
    "    print(round(math.sqrt(n)))\n"
   ]
  },
  {
   "cell_type": "code",
   "execution_count": 122,
   "metadata": {},
   "outputs": [
    {
     "name": "stdout",
     "output_type": "stream",
     "text": [
      "2\n",
      "5\n",
      "120\n",
      "6\n",
      "720\n"
     ]
    }
   ],
   "source": [
    "# https://www.spoj.com/problems/FCTRL2/\n",
    "\n",
    "t=int(input())\n",
    "for i in range(t):\n",
    "    n=int(input())\n",
    "    #a=[1]\n",
    "    var=1\n",
    "    for i in range(1,n+1):\n",
    "        #a.append(a[i-1]*i)\n",
    "        var=var*i\n",
    "    print(var)  "
   ]
  },
  {
   "cell_type": "code",
   "execution_count": 156,
   "metadata": {},
   "outputs": [
    {
     "name": "stdout",
     "output_type": "stream",
     "text": [
      "1\n",
      "4 12\n",
      "0\n",
      "1\n"
     ]
    }
   ],
   "source": [
    "#Doubt\n",
    "#  https://www.spoj.com/problems/LASTDIG/\n",
    "\n",
    "t=int(input())\n",
    "for tc in range(t):\n",
    "    (num, d) = map(int, input().split(' '))\n",
    "    dic ={1:1,2:4,3:4,4:2,5:1,6:1,7:4,8:4,9:2,0:0}\n",
    "    last_digit = num%10\n",
    "    if last_digit == 0:\n",
    "        print(0)\n",
    "        break\n",
    "    #print(last_digit)\n",
    "    power=d%dic[last_digit]\n",
    "    print(power)\n",
    "    #power=power+1\n",
    "    \n",
    "    val=(last_digit**power)%10\n",
    "    print(val)"
   ]
  },
  {
   "cell_type": "code",
   "execution_count": 155,
   "metadata": {},
   "outputs": [
    {
     "data": {
      "text/plain": [
       "16777216"
      ]
     },
     "execution_count": 155,
     "metadata": {},
     "output_type": "execute_result"
    }
   ],
   "source": [
    "4**12\n"
   ]
  },
  {
   "cell_type": "code",
   "execution_count": 121,
   "metadata": {},
   "outputs": [
    {
     "name": "stdout",
     "output_type": "stream",
     "text": [
      "5\n",
      "4 2\n",
      "8\n",
      "123 43\n",
      "5289\n",
      "324 342\n",
      "110808\n",
      "00 12\n",
      "0\n",
      "9999 12345\n",
      "123437655\n"
     ]
    }
   ],
   "source": [
    "# https://www.spoj.com/problems/MUL/\n",
    "\n",
    "t=int(input())\n",
    "for tc in range(t):\n",
    "    a,b = list(map(int,input().split()))\n",
    "    print(a*b)"
   ]
  },
  {
   "cell_type": "code",
   "execution_count": 120,
   "metadata": {
    "scrolled": true
   },
   "outputs": [
    {
     "name": "stdout",
     "output_type": "stream",
     "text": [
      "1\n",
      "5\n",
      "5\n",
      "6\n",
      "2\n",
      "1\n",
      "3\n",
      " \n",
      "7\n"
     ]
    }
   ],
   "source": [
    "# https://www.spoj.com/problems/INVCNT/\n",
    "#Doubt \n",
    "\n",
    "t=int(input())\n",
    "for tc in range(t):\n",
    "    l=[]\n",
    "    n=int(input())\n",
    "    for i in range(n+1):\n",
    "        a=input()\n",
    "        if a!=' ':\n",
    "            l.append(int(a))\n",
    "    count=0\n",
    "    for ind,i in enumerate(l):\n",
    "        for j_ind,j in enumerate(l):\n",
    "            #print(i,j)\n",
    "            if ind<j_ind and l[ind]>l[j_ind]:\n",
    "                #print(ind,i,\" - \",j_ind,j)\n",
    "                count+=1\n",
    "    print(count)"
   ]
  },
  {
   "cell_type": "code",
   "execution_count": 110,
   "metadata": {},
   "outputs": [
    {
     "name": "stdout",
     "output_type": "stream",
     "text": [
      "3\n"
     ]
    }
   ],
   "source": [
    "#print(l)\n",
    "count=0\n",
    "for ind,i in enumerate(l):\n",
    "    for j_ind,j in enumerate(l):\n",
    "        #print(i,j)\n",
    "        if ind<j_ind and l[ind]>l[j_ind]:\n",
    "            #print(ind,i,\" - \",j_ind,j)\n",
    "            count+=1\n",
    "print(count)"
   ]
  },
  {
   "cell_type": "code",
   "execution_count": null,
   "metadata": {},
   "outputs": [],
   "source": [
    "#https://www.codechef.com/problems/FLOW001\n",
    "t = int(input())\n",
    "for i in range(t):\n",
    "    # Read integers a and b.\n",
    "    (a, b) = map(int, input().split(' '))\n",
    "    \n",
    "    ans = a + b\n",
    "    print(ans)"
   ]
  },
  {
   "cell_type": "code",
   "execution_count": 122,
   "metadata": {
    "scrolled": true
   },
   "outputs": [
    {
     "name": "stdout",
     "output_type": "stream",
     "text": [
      "2\n",
      "24352\n",
      "1\n",
      "4444\n",
      "4\n"
     ]
    }
   ],
   "source": [
    "# https://www.codechef.com/problems/LUCKFOUR\n",
    "t=int(input())\n",
    "for i in range(t):\n",
    "    n=input()\n",
    "    t=(\" \".join(n)).split()\n",
    "    print(t.count('4'))"
   ]
  },
  {
   "cell_type": "code",
   "execution_count": null,
   "metadata": {},
   "outputs": [],
   "source": [
    "# https://www.spoj.com/problems/LASTDIG/\n",
    "t=int(input())\n",
    "for tc in range(t):\n",
    "    (num, d) = map(int, input().split(' '))\n",
    "    dic ={1:1,2:4,3:4,4:2,5:1,6:1,7:4,8:4,9:2,0:0}\n",
    "    last_digit = num%10\n",
    "    if last_digit==0:\n",
    "        print(0)\n",
    "    else:\n",
    "        if d>num:\n",
    "            power=d%dic[last_digit]\n",
    "            if power==0:\n",
    "                power=1\n",
    "        else:\n",
    "            power=dic[last_digit]\n",
    "        #print(power)\n",
    "        val=(last_digit**power)%10\n",
    "        print(val)"
   ]
  },
  {
   "cell_type": "code",
   "execution_count": null,
   "metadata": {},
   "outputs": [],
   "source": []
  },
  {
   "cell_type": "code",
   "execution_count": 86,
   "metadata": {},
   "outputs": [
    {
     "name": "stdout",
     "output_type": "stream",
     "text": [
      "23\n",
      "23\n",
      "3\n",
      "3\n",
      "2\n",
      "2\n",
      "42\n"
     ]
    }
   ],
   "source": [
    "# https://www.spoj.com/problems/TEST/\n",
    "while( 1 ) :\n",
    "    num = int( input())\n",
    "    if ( num == 42 ):\n",
    "        break\n",
    "    print(num)"
   ]
  },
  {
   "cell_type": "code",
   "execution_count": 170,
   "metadata": {},
   "outputs": [
    {
     "name": "stdout",
     "output_type": "stream",
     "text": [
      "1\n",
      "0 0\n",
      "0\n"
     ]
    }
   ],
   "source": [
    "# https://www.spoj.com/problems/NSTEPS/\n",
    "#Series\n",
    "t=int(input())\n",
    "for j in range(t):\n",
    "    x,y=list(map(int,input().split()))\n",
    "\n",
    "    if x>=y:\n",
    "        if x-y==2 or x==y:\n",
    "            if x%2!=0:\n",
    "                print(x+y-1)\n",
    "            if x%2==0:\n",
    "                print((x+y))\n",
    "        else:\n",
    "            print(\"No Number\")\n",
    "    else:\n",
    "        print(\"No Number\")"
   ]
  },
  {
   "cell_type": "code",
   "execution_count": 189,
   "metadata": {},
   "outputs": [
    {
     "name": "stdout",
     "output_type": "stream",
     "text": [
      "aaaBBBBhhhekkL\n",
      "1\n",
      "2\n",
      "3\n",
      "a34\n",
      "5\n",
      "6\n",
      "7\n",
      "B48\n",
      "9\n",
      "10\n",
      "h311\n",
      "e112\n",
      "13\n",
      "k2k1\n",
      "14\n",
      "L1\n"
     ]
    }
   ],
   "source": [
    "# https://www.hackerrank.com/contests/smart-interviews-basic/challenges/si-basic-compress-a-string\n",
    "#Doubt\n",
    "count=0\n",
    "s=input()\n",
    "pos1=1\n",
    "\n",
    "for ind,i in enumerate(s):\n",
    "    print(pos1)\n",
    "    #print(s[ind],s[pos1])\n",
    "    #print(count)\n",
    "    if pos1<len(s):\n",
    "        if s[ind]==s[pos1]:\n",
    "            count+=1\n",
    "            #print(count)\n",
    "            \n",
    "            \n",
    "        else:\n",
    "            #print(count)\n",
    "            print(s[ind],end='')\n",
    "            print(count+1,end='')\n",
    "            count=0\n",
    "        pos1+=1\n",
    "        \n",
    "    if pos1==len(s):\n",
    "        print(i,end='')\n",
    "        print(count+1)\n",
    "        "
   ]
  },
  {
   "cell_type": "code",
   "execution_count": 4,
   "metadata": {},
   "outputs": [
    {
     "name": "stdout",
     "output_type": "stream",
     "text": [
      "You're a good person.\n",
      "o\n",
      "4\n"
     ]
    }
   ],
   "source": [
    "# https://www.hackerrank.com/contests/smart-interviews-basic/challenges/si-basic-occurrence-of-a-character-1\n",
    "\n",
    "s=input()\n",
    "count=0\n",
    "c=input()\n",
    "for i in s:\n",
    "    if i==c:\n",
    "        count+=1\n",
    "print(count)"
   ]
  },
  {
   "cell_type": "code",
   "execution_count": 11,
   "metadata": {},
   "outputs": [
    {
     "name": "stdout",
     "output_type": "stream",
     "text": [
      "asdasdasd\n",
      "3 6\n"
     ]
    }
   ],
   "source": [
    "# https://www.hackerrank.com/contests/smart-interviews-basic/challenges/si-basic-count-vowels-and-consonants\n",
    "\n",
    "s=input().lower()\n",
    "count_v=0\n",
    "count_c=0\n",
    "vowels=['a','e','i','o','u']\n",
    "total=[]\n",
    "for i in range(97,123):\n",
    "    total.append(chr(i))\n",
    "consonants=set(total)-set(vowels)\n",
    "s.lower()\n",
    "for i in s:\n",
    "    if i in vowels:\n",
    "        count_v+=1\n",
    "    if i in consonants:\n",
    "        count_c+=1\n",
    "print(count_v,end=' ')\n",
    "print(count_c)"
   ]
  },
  {
   "cell_type": "code",
   "execution_count": null,
   "metadata": {},
   "outputs": [],
   "source": []
  },
  {
   "cell_type": "code",
   "execution_count": null,
   "metadata": {},
   "outputs": [],
   "source": [
    "# https://www.hackerrank.com/contests/smart-interviews-basic/challenges/si-basic-reverse-string/problem\n",
    "s=input()\n",
    "print(s[::-1])"
   ]
  }
 ],
 "metadata": {
  "kernelspec": {
   "display_name": "Python 3",
   "language": "python",
   "name": "python3"
  },
  "language_info": {
   "codemirror_mode": {
    "name": "ipython",
    "version": 3
   },
   "file_extension": ".py",
   "mimetype": "text/x-python",
   "name": "python",
   "nbconvert_exporter": "python",
   "pygments_lexer": "ipython3",
   "version": "3.8.3"
  }
 },
 "nbformat": 4,
 "nbformat_minor": 4
}
