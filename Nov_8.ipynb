{
 "cells": [
  {
   "cell_type": "code",
   "execution_count": null,
   "metadata": {},
   "outputs": [],
   "source": [
    "#https://www.hackerrank.com/challenges/grading/problem\n",
    "\n",
    "grades=[13,45,67,43]\n",
    "new_grade=[]\n",
    "for ind,grade in enumerate(grades):    \n",
    "    if grade >= 38:\n",
    "        if (5-(grade%5))<3:\n",
    "            #new_grade[ind]=grade+(5-grade%5)\n",
    "            #print(new_grade)\n",
    "            new_grade.append(grade+(5-grade%5))\n",
    "        else:\n",
    "            new_grade.append(grade)\n",
    "    else:\n",
    "        new_grade.append(grade)\n",
    "return(new_grade)"
   ]
  },
  {
   "cell_type": "code",
   "execution_count": null,
   "metadata": {},
   "outputs": [],
   "source": [
    "#https://www.hackerrank.com/challenges/diagonal-difference/problem\n",
    "\n",
    "arr= [[11,2,4],[4,5,6],[10,8,-12]]\n",
    "sum1=0\n",
    "sum2=0\n",
    "for ind,i in enumerate(arr):\n",
    "    for j_ind,j in enumerate(i):\n",
    "        if j_ind==ind:\n",
    "            sum1+=j\n",
    "    for j_ind,j in enumerate(i[::-1]):\n",
    "        if j_ind==ind:\n",
    "            sum2+=j   \n",
    "if sum1>sum2:\n",
    "    return(sum1-sum2)\n",
    "else:\n",
    "    return(sum2-sum1)"
   ]
  },
  {
   "cell_type": "code",
   "execution_count": null,
   "metadata": {},
   "outputs": [],
   "source": [
    "#https://www.hackerrank.com/contests/smart-interviews/challenges/si-print-right-angled-triangle-pattern/problem\n",
    "\n",
    "t=int(input())\n",
    "for p in range(1,t+1):\n",
    "    n=int(input())\n",
    "    print(\"Case #\",end='')\n",
    "    print(p,end='')\n",
    "    print(\":\")\n",
    "    \n",
    "    for i in range(1,n+1):\n",
    "        for j in range(n,0,-1):\n",
    "            if j>i:\n",
    "                print(\" \",end='')\n",
    "            else:\n",
    "                print('*',end='')\n",
    "        print()"
   ]
  },
  {
   "cell_type": "code",
   "execution_count": null,
   "metadata": {},
   "outputs": [],
   "source": [
    "#https://www.codechef.com/problems/FLOW006\n",
    "\n",
    "t=int(input())\n",
    "for p in range(1,t+1):\n",
    "    n=int(input())\n",
    "    \n",
    "    l=(\".\".join(str(n))).split('.')\n",
    "    sum=0\n",
    "    for i in l:\n",
    "        sum+=int(i)\n",
    "    print(sum)\n",
    "    "
   ]
  },
  {
   "cell_type": "code",
   "execution_count": null,
   "metadata": {},
   "outputs": [],
   "source": [
    "#http://codeforces.com/problemset/problem/71/A\n",
    "\n",
    "t=int(input())\n",
    "for p in range(1,t+1):\n",
    "    s=str(input())\n",
    "    \n",
    "    if len(s)>10:\n",
    "        new_s=\"\"\n",
    "        new_s+=str(s[0])\n",
    "        new_s+=str(len(s)-2)\n",
    "        new_s+=str(s[len(s)-1])\n",
    "        print(new_s)\n",
    "    else:\n",
    "        print(s)"
   ]
  },
  {
   "cell_type": "code",
   "execution_count": null,
   "metadata": {},
   "outputs": [],
   "source": [
    "#C++\n",
    "#https://www.interviewbit.com/problems/number-of-1-bits/\n",
    "\n",
    "int Solution::numSetBits(unsigned int A) {\n",
    "    int c=0;\n",
    "    while(A>0){\n",
    "        if (A&1==1){\n",
    "            c++;\n",
    "        }\n",
    "        A=A>>1;\n",
    "    }\n",
    "    return(c);\n",
    "}\n"
   ]
  },
  {
   "cell_type": "code",
   "execution_count": null,
   "metadata": {},
   "outputs": [],
   "source": [
    "#https://www.spoj.com/problems/ADDREV/\n",
    "\n",
    "def rev(n1):\n",
    "    l=(\".\".join(str(n1))).split('.')\n",
    "    l=l[::-1]\n",
    "    rev_n=\"\"\n",
    "    for i in l:\n",
    "        rev_n+=(i)\n",
    "    return(int(rev_n))\n",
    "t=int(input())\n",
    "for p in range(1,t+1):\n",
    "    n=input()\n",
    "    n1,n2=n.split()\n",
    "\n",
    "    sum=rev(n1)+rev(n2)\n",
    "    print(rev(sum))\n",
    "    "
   ]
  },
  {
   "cell_type": "code",
   "execution_count": null,
   "metadata": {},
   "outputs": [],
   "source": [
    "#https://www.hackerrank.com/contests/smart-interviews-basic/challenges/si-basic-sum-of-two-matrices/submissions/code/1328018402\n",
    "\n",
    "n,m=input().split()\n",
    "n=int(n)\n",
    "m=int(m)\n",
    "arr1=[input().split() for i in range(n)]\n",
    "arr2=[input().split() for i in range(n)]\n",
    "sum_arr=[]\n",
    "for i in range(n):\n",
    "    chota_sum=[]\n",
    "    for j in range(m):\n",
    "        chota_sum.append(0)\n",
    "    sum_arr.append(chota_sum)\n",
    "    del (chota_sum)\n",
    "\n",
    "for ind,i in enumerate(arr1):\n",
    "    for j_ind,j in enumerate(arr2):\n",
    "        if ind==j_ind:\n",
    "            for element_ind,element in enumerate(i):\n",
    "                sum_arr[ind][element_ind]=int(element)+int(j[element_ind])\n",
    "\n",
    "for i in sum_arr:\n",
    "    for j in i:\n",
    "        print(j,end=' ')\n",
    "    print()"
   ]
  },
  {
   "cell_type": "code",
   "execution_count": null,
   "metadata": {},
   "outputs": [],
   "source": [
    "# https://www.hackerrank.com/contests/smart-interviews-basic/challenges/si-basic-matrix-row-sum\n",
    "\n",
    "n,m=input().split()\n",
    "n=int(n)\n",
    "m=int(m)\n",
    "arr1=[input().split() for i in range(n)]\n",
    "sum_arr=[0]*n\n",
    "num_rows=len(arr1)\n",
    "num_cols=len(arr1[0])\n",
    "\n",
    "\n",
    "for i in range(0,num_rows):\n",
    "    for j in range(0,num_cols):\n",
    "        sum_arr[i]+=int(arr1[i][j])\n",
    "for i in sum_arr:\n",
    "    print(i)\n",
    "\n",
    "\n",
    "\n"
   ]
  },
  {
   "cell_type": "code",
   "execution_count": null,
   "metadata": {},
   "outputs": [],
   "source": [
    "# https://www.hackerrank.com/contests/smart-interviews-basic/challenges/si-basic-transpose-matrix\n",
    "\n",
    "n,m=input().split()\n",
    "n=int(n)\n",
    "m=int(m)\n",
    "arr1=[input().split() for i in range(n)]\n",
    "new_arr=[]\n",
    "\n",
    "num_rows=len(arr1)\n",
    "num_cols=len(arr1[0])\n",
    "for i in range(0,num_cols):\n",
    "    new_small_arr=[]\n",
    "    for j in range(0,num_rows):\n",
    "        new_small_arr.append(arr1[j][i])\n",
    "    new_arr.append(new_small_arr)\n",
    "    del new_small_arr\n",
    "\n",
    "for  i in new_arr:\n",
    "    for j in i:\n",
    "        print(j,end=' ')\n",
    "    print()\n",
    "\n",
    "\n"
   ]
  },
  {
   "cell_type": "code",
   "execution_count": null,
   "metadata": {},
   "outputs": [],
   "source": [
    "# https://www.hackerrank.com/contests/smart-interviews-basic/challenges/si-basic-matrix-column-sum\n",
    "\n",
    "n,m=input().split()\n",
    "n=int(n)\n",
    "m=int(m)\n",
    "arr1=[input().split() for i in range(n)]\n",
    "sum_arr=[0]*m\n",
    "num_rows=len(arr1)\n",
    "num_cols=len(arr1[0])\n",
    "for i in range(0,num_cols):\n",
    "    for j in range(0,num_rows):\n",
    "        \n",
    "        sum_arr[i]+=int(arr1[j][i])\n",
    "for i in sum_arr:\n",
    "    print(i)\n",
    "\n",
    "\n"
   ]
  },
  {
   "cell_type": "code",
   "execution_count": null,
   "metadata": {},
   "outputs": [],
   "source": [
    "# https://www.hackerrank.com/contests/smart-interviews-basic/challenges/si-basic-a-sparse-matrix\n",
    "\n",
    "n,m=input().split()\n",
    "n=int(n)\n",
    "m=int(m)\n",
    "arr1=[input().split() for i in range(n)]\n",
    "num_rows=len(arr1)\n",
    "num_cols=len(arr1[0])\n",
    "count=0\n",
    "for i in range(0,num_rows):\n",
    "    for j in range(0,num_cols):\n",
    "        if int(arr1[i][j])==0:\n",
    "            count+=1\n",
    "if count>(n*m)/2:\n",
    "    print(\"Yes\")\n",
    "else:\n",
    "    print(\"No\")\n",
    "\n",
    "\n"
   ]
  },
  {
   "cell_type": "code",
   "execution_count": null,
   "metadata": {},
   "outputs": [],
   "source": [
    "# https://www.hackerrank.com/contests/smart-interviews-basic/challenges/si-basic-digits-sum\n",
    "\n",
    "a=int(input())\n",
    "sum=0\n",
    "while a>0:\n",
    "    r=a%10\n",
    "    sum=sum+r\n",
    "    a=a//10\n",
    "print(sum)\n",
    "\n"
   ]
  },
  {
   "cell_type": "code",
   "execution_count": null,
   "metadata": {},
   "outputs": [],
   "source": [
    "# https://www.hackerrank.com/contests/smart-interviews-basic/challenges/si-basic-number-of-multiples/submissions/code/1328044850\n",
    "\n",
    "n=int(input())\n",
    "print(n//3+n//5-n//15)\n"
   ]
  },
  {
   "cell_type": "code",
   "execution_count": null,
   "metadata": {},
   "outputs": [],
   "source": [
    "\n",
    "# https://www.hackerrank.com/challenges/arrays-ds/problem\n",
    "\n",
    "#!/bin/python3\n",
    "\n",
    "import math\n",
    "import os\n",
    "import random\n",
    "import re\n",
    "import sys\n",
    "\n",
    "   "
   ]
  },
  {
   "cell_type": "code",
   "execution_count": null,
   "metadata": {},
   "outputs": [],
   "source": [
    "\n",
    "# Complete the reverseArray function below.\n",
    "def reverseArray(a):\n",
    "    res=[]\n",
    "    for i in range(len(a),0,-1):\n",
    "        #print(a[i-1])\n",
    "        res.append(a[i-1])\n",
    "    return(res)\n",
    "if __name__ == '__main__':\n",
    "    fptr = open(os.environ['OUTPUT_PATH'], 'w')\n",
    "\n",
    "    arr_count = int(input())\n",
    "\n",
    "    arr = list(map(int, input().rstrip().split()))\n",
    "\n",
    "    res = reverseArray(arr)\n",
    "\n",
    "    fptr.write(' '.join(map(str, res)))\n",
    "    fptr.write('\\n')\n",
    "\n",
    "    fptr.close()\n"
   ]
  },
  {
   "cell_type": "code",
   "execution_count": null,
   "metadata": {},
   "outputs": [],
   "source": [
    " \n",
    "# https://www.codechef.com/submit/HS08TEST\n",
    "\n",
    "w=int(input())\n",
    "a=int(input())\n",
    "\n",
    "if (w%5)!=0:\n",
    "    print(a)\n",
    "else:\n",
    "    if a-w>0:\n",
    "        print(a-w-0.5)\n",
    "    else:\n",
    "        print(a)\n"
   ]
  },
  {
   "cell_type": "code",
   "execution_count": null,
   "metadata": {},
   "outputs": [],
   "source": [
    "# https://codeforces.com/problemset/problem/4/A\n",
    "\n",
    "a=int(input())\n",
    "if a%2==0:\n",
    "    if a==2:\n",
    "        print(\"No\")\n",
    "    else:\n",
    "        print(\"Yes\")\n",
    "else:\n",
    "    print(\"No\")\n",
    "\n",
    "\n"
   ]
  },
  {
   "cell_type": "code",
   "execution_count": null,
   "metadata": {},
   "outputs": [],
   "source": [
    "\n",
    "# https://codeforces.com/problemset/problem/231/A\n",
    "\n",
    "n=int(input())\n",
    "a=[]\n",
    "a_yes=0\n",
    "c_yes=0\n",
    "c_no=0\n",
    "for i in range(n):\n",
    "    a.append(list(map(int,input().split(' '))))\n",
    "for i in a:\n",
    "    for j in i:\n",
    "        if j==1:\n",
    "            c_yes+=1\n",
    "        else:\n",
    "            c_no+=1\n",
    "    \n",
    "    if c_yes>=2:\n",
    "        a_yes+=1\n",
    "    c_yes=0\n",
    "    c_no=0\n",
    "print(a_yes)"
   ]
  },
  {
   "cell_type": "code",
   "execution_count": null,
   "metadata": {},
   "outputs": [],
   "source": [
    "# https://codeforces.com/problemset/problem/158/A \n",
    "\n",
    "n,val=list(map(int,input().split(' ')))\n",
    "c=0\n",
    "a=list(map(int,input().split(' ')))\n",
    "if sum(a)>0:\n",
    "    for i in a:\n",
    "        if i>=a[val-1] and i!=0:\n",
    "            c+=1\n",
    "    print(c)\n",
    "else:\n",
    "    print(0)\n",
    "    "
   ]
  },
  {
   "cell_type": "code",
   "execution_count": null,
   "metadata": {},
   "outputs": [],
   "source": [
    "# https://codeforces.com/problemset/problem/158/A \n",
    "\n",
    "n,val=list(map(int,input().split(' ')))\n",
    "c=0\n",
    "a=list(map(int,input().split(' ')))\n",
    "if sum(a)>0:\n",
    "    for i in a:\n",
    "        if i>=a[val-1] and i!=0:\n",
    "            c+=1\n",
    "    print(c)\n",
    "else:\n",
    "    print(0)\n",
    "    \n"
   ]
  },
  {
   "cell_type": "code",
   "execution_count": null,
   "metadata": {},
   "outputs": [],
   "source": [
    "\n",
    "# https://codeforces.com/problemset/problem/50/A\n",
    "\n",
    "m,n=list(map(int,input().split(' ')))\n",
    "\n",
    "print(m*n//2)"
   ]
  },
  {
   "cell_type": "code",
   "execution_count": null,
   "metadata": {},
   "outputs": [],
   "source": [
    "\n",
    "# https://codeforces.com/problemset/problem/282/A\n",
    "\n",
    "n=int(input())\n",
    "x=0\n",
    "for i in range(n):\n",
    "    a= input()\n",
    "    if a in ['X++','++X']:\n",
    "        x+=1\n",
    "    if a in ['--X','X--']:\n",
    "        x-=1\n",
    "print(x)\n"
   ]
  },
  {
   "cell_type": "code",
   "execution_count": null,
   "metadata": {},
   "outputs": [],
   "source": [
    "# https://codeforces.com/problemset/problem/112/A\n",
    "\n",
    "a=input().lower()\n",
    "b=input().lower()\n",
    "if a>b:\n",
    "    print(1)\n",
    "elif a<b:\n",
    "    print(-1)\n",
    "else:\n",
    "    print(0)"
   ]
  },
  {
   "cell_type": "code",
   "execution_count": 24,
   "metadata": {},
   "outputs": [
    {
     "name": "stdout",
     "output_type": "stream",
     "text": [
      "0 0 0 0 0\n",
      "1 0 0 0 0\n",
      "0 0 0 0 0\n",
      "0 0 0 0 0\n",
      "0 0 0 0 0\n",
      "[[0, 0, 0, 0, 0], [1, 0, 0, 0, 0], [0, 0, 0, 0, 0], [0, 0, 0, 0, 0], [0, 0, 0, 0, 0]]\n"
     ]
    }
   ],
   "source": [
    "# https://codeforces.com/problemset/problem/263/A\n",
    "a=[]\n",
    "for i in range(5):\n",
    "    a.append(list(map(int,input().split(' '))))\n",
    "r=0\n",
    "c=0\n",
    "rs=0\n",
    "cs=0\n",
    "for i in range(len(a)):\n",
    "    for j in range(5):\n",
    "        if a[i][j]==1:\n",
    "            r,c=i,j\n",
    "            break\n",
    "r=r+1\n",
    "c=c+1\n",
    "\n",
    "if r>=3:\n",
    "    rs=r-3\n",
    "else:\n",
    "    rs=3-r\n",
    "if c>=3:\n",
    "    cs=c-3\n",
    "else:\n",
    "    cs=3-c\n",
    "print(rs+cs)"
   ]
  },
  {
   "cell_type": "code",
   "execution_count": 55,
   "metadata": {
    "scrolled": true
   },
   "outputs": [
    {
     "name": "stdout",
     "output_type": "stream",
     "text": [
      "z\n",
      "Z\n"
     ]
    }
   ],
   "source": [
    "# https://codeforces.com/problemset/problem/281/A\n",
    "a=input()\n",
    "if a[0].islower():\n",
    "    print(a[0].upper()+a[1:])\n",
    "else:\n",
    "    print(a)"
   ]
  },
  {
   "cell_type": "code",
   "execution_count": 74,
   "metadata": {},
   "outputs": [
    {
     "name": "stdout",
     "output_type": "stream",
     "text": [
      "1+1+3+1+3\n",
      "1+1+1+3+3\n"
     ]
    }
   ],
   "source": [
    "# https://codeforces.com/problemset/problem/339/A\n",
    "\n",
    "a= list(map(int,input().split('+')))\n",
    "a.sort()\n",
    "res=\"\"\n",
    "for i in a:\n",
    "    res+=str(i)+\"+\"\n",
    "print(res[:-1])"
   ]
  },
  {
   "cell_type": "code",
   "execution_count": 124,
   "metadata": {},
   "outputs": [
    {
     "name": "stdout",
     "output_type": "stream",
     "text": [
      "1 2 3\n",
      "No\n"
     ]
    }
   ],
   "source": [
    "# https://www.hackerrank.com/contests/smart-interviews-basic/challenges/si-basic-triangle-validator/problem\n",
    "\n",
    "n=list(map(int,input().split(' ')))\n",
    "case_results=[]\n",
    "master=[]\n",
    "count=0\n",
    "new=[]\n",
    "for i in range(len(n)):\n",
    "    \n",
    "    a=n.copy()\n",
    "    first=a.pop(i)\n",
    "    second,third=a\n",
    "    new= [j for j in [first,second,third]]\n",
    "    master.append(new)\n",
    "    a.reverse()\n",
    "    second,third=a\n",
    "    new= [j for j in [first,second,third]]\n",
    "    master.append(new)\n",
    "    del new\n",
    "for i in master:\n",
    "    a,b,c=i\n",
    "    if a+b>c:\n",
    "        count+=1\n",
    "    else:\n",
    "        print(\"No\")\n",
    "        break\n",
    "if count==6:\n",
    "    print(\"Yes\")"
   ]
  },
  {
   "cell_type": "code",
   "execution_count": 133,
   "metadata": {},
   "outputs": [
    {
     "name": "stdout",
     "output_type": "stream",
     "text": [
      "21\n",
      "51090942171709440000\n"
     ]
    }
   ],
   "source": [
    "# https://www.hackerrank.com/contests/smart-interviews-basic/challenges/si-basic-long-factorial\n",
    "\n",
    "n=int(input())\n",
    "a=[1]\n",
    "for i in range(1,n+1):\n",
    "    a.append(a[i-1]*i)\n",
    "print(a[-1])"
   ]
  },
  {
   "cell_type": "code",
   "execution_count": null,
   "metadata": {},
   "outputs": [],
   "source": [
    "# https://www.hackerrank.com/contests/smart-interviews-basic/challenges/si-basic-natural-numbers-sum/problem\n",
    "\n",
    "n=int(input())\n",
    "print(round(n*(n+1)/2))"
   ]
  },
  {
   "cell_type": "code",
   "execution_count": null,
   "metadata": {},
   "outputs": [],
   "source": [
    "# https://www.hackerrank.com/contests/smart-interviews-basic/challenges/si-basic-cubes-sum/problem\n",
    "\n",
    "n=int(input())\n",
    "print(int((n*(n+1))*(n*(n+1))/4))"
   ]
  }
 ],
 "metadata": {
  "kernelspec": {
   "display_name": "Python 3",
   "language": "python",
   "name": "python3"
  }
 },
 "nbformat": 4,
 "nbformat_minor": 4
}
